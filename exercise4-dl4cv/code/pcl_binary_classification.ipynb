{
 "cells": [
  {
   "cell_type": "markdown",
   "metadata": {},
   "source": [
    "# Point Cloud Binary Classification with PyTorch"
   ]
  },
  {
   "cell_type": "markdown",
   "metadata": {},
   "source": [
    "Make sure you are using the `dl4cv` conda environment."
   ]
  },
  {
   "cell_type": "markdown",
   "metadata": {},
   "source": [
    "## Dataset loading and visualization"
   ]
  },
  {
   "cell_type": "markdown",
   "metadata": {},
   "source": [
    "The input X contain 100 2D points, and y are their corresponding labels (0 or 1). The goal is to train a model that can classify every point to its correct label.\n"
   ]
  },
  {
   "cell_type": "code",
   "execution_count": 1,
   "metadata": {},
   "outputs": [
    {
     "data": {
      "image/png": "[encoded data removed]",
      "text/plain": [
       "<Figure size 640x480 with 1 Axes>"
      ]
     },
     "metadata": {},
     "output_type": "display_data"
    },
    {
     "data": {
      "text/plain": [
       "<Figure size 640x480 with 0 Axes>"
      ]
     },
     "metadata": {},
     "output_type": "display_data"
    }
   ],
   "source": [
    "%matplotlib inline\n",
    "import matplotlib.pyplot as plt\n",
    "import numpy as np\n",
    "import torch\n",
    "import torch.nn as nn\n",
    "import torch.nn.functional as F\n",
    "import torch.optim as optim\n",
    "from torch.utils.data import Dataset\n",
    "from torch.utils.data import DataLoader\n",
    "from torch.optim import Adam\n",
    "\n",
    "dataset = np.load('data/2d_pcl_dataset.npz')\n",
    "X, y = dataset['X'], dataset['y']\n",
    "\n",
    "X0 = X[y==0] # 50 2D points have label 0\n",
    "X1 = X[y==1] # 50 2D points have label 1\n",
    "\n",
    "def plot(X0, X1, fit_param=None):\n",
    "    plt.scatter(X0[:,0], X0[:,1], color='red', label=0)\n",
    "    plt.scatter(X1[:,0], X1[:,1], color='blue', label=1)\n",
    "    \n",
    "    plt.xlim([-0.55, 0.55])\n",
    "    plt.ylim([-0.35, 0.25])\n",
    "    plt.legend()\n",
    "    plt.show()\n",
    "    plt.clf()\n",
    "\n",
    "plot(X0, X1)"
   ]
  },
  {
   "cell_type": "markdown",
   "metadata": {},
   "source": [
    "## Logistic Regression for the point cloud classification task\n"
   ]
  },
  {
   "cell_type": "markdown",
   "metadata": {},
   "source": [
    "Starting by filling in the `Simple2DDataset` class below. First, in the class constructore `__init__`, you will need to read the right `2d_pcl_dataset.npz` from disk.\n",
    "\n",
    "Second, in the `__getitem__`, you will need to take a single data point and its label based on its index `idx`"
   ]
  },
  {
   "cell_type": "code",
   "execution_count": 2,
   "metadata": {},
   "outputs": [],
   "source": [
    "class Simple2DDataset(Dataset):\n",
    "    def __init__(self):\n",
    "        super().__init__()\n",
    "        #########################################################################\n",
    "        # TODO: read data from disk using np.load.\n",
    "        # Data is located in the folder \"data\".\n",
    "        # Save samples and labels to class members self.X and self.y respectively.\n",
    "        # samples should be an Nx2 numpy array. Labels should be Nx1.\n",
    "        #########################################################################\n",
    "        data = np.load('data/2d_pcl_dataset.npz')\n",
    "        self.X = data['X']\n",
    "        self.y = data['y']\n",
    "     \n",
    "    def __len__(self):\n",
    "        # Returns the number of samples in the dataset.\n",
    "        return self.X.shape[0]\n",
    "    \n",
    "    def __getitem__(self, idx):\n",
    "        #########################################################################\n",
    "        # TODO: return the sample and label with index idx\n",
    "        #########################################################################\n",
    "        point = self.X[idx]\n",
    "        label = self.y[idx]\n",
    "        \n",
    "        # Convert to tensor.\n",
    "        return torch.from_numpy(point).float(), \\\n",
    "               torch.from_numpy(label[np.newaxis]).float()\n"
   ]
  },
  {
   "cell_type": "markdown",
   "metadata": {},
   "source": [
    "With the complete `Simple2DDataset`, we can create a PyTorch dataloader\n",
    "\n",
    "**NOTE**: if you encounter some unexpected errors in data loading, try setting `NUM_WORKERS = 0`"
   ]
  },
  {
   "cell_type": "code",
   "execution_count": 3,
   "metadata": {},
   "outputs": [],
   "source": [
    "BATCH_SIZE = 8\n",
    "NUM_WORKERS = 0\n",
    "\n",
    "# create the dataloader\n",
    "dataset = Simple2DDataset()\n",
    "train_dataloader = DataLoader(\n",
    "    dataset,\n",
    "    batch_size=BATCH_SIZE,\n",
    "    num_workers=NUM_WORKERS,\n",
    "    shuffle=True\n",
    ")"
   ]
  },
  {
   "cell_type": "markdown",
   "metadata": {},
   "source": [
    "Now, define your first network by filling in the `LinearClassifier` class below.\n",
    "\n",
    "Add a single linear layer `nn.Linear` inside the `nn.Sequential` call. The input is 2D, and the output should be a single value, corresponding to the probability of a given 2D point being part of cluster 0."
   ]
  },
  {
   "cell_type": "code",
   "execution_count": 4,
   "metadata": {},
   "outputs": [],
   "source": [
    "class LinearClassifier(nn.Module):\n",
    "    def __init__(self):\n",
    "        super().__init__()\n",
    "\n",
    "        self.codename = 'linear'\n",
    "\n",
    "        #########################################################################\n",
    "        # TODO: add a single linear layer with nn.Linear, inside the `nn.Sequential` call.\n",
    "        # Input is 2D.\n",
    "        # Output is a single value.\n",
    "        #########################################################################\n",
    "        self.model = nn.Sequential(nn.Linear(2, 1))\n",
    "        \n",
    "    def forward(self, batch):\n",
    "        # Process batch using the defined model.\n",
    "        x = self.model(batch)\n",
    "        # Final sigmoid activation to obtain a probability between 0 and 1.\n",
    "        return torch.sigmoid(x)"
   ]
  },
  {
   "cell_type": "markdown",
   "metadata": {},
   "source": [
    "Now, you are asked to implement the training loop below"
   ]
  },
  {
   "cell_type": "code",
   "execution_count": 5,
   "metadata": {},
   "outputs": [],
   "source": [
    "def train(net, optimizer, dataloader, epoch):\n",
    "    net.train()\n",
    "    loss_sum = 0\n",
    "    for batch_idx, (point, label) in enumerate(dataloader):\n",
    "        # First we need to zero the gradient, otherwise PyTorch would accumulate them\n",
    "        optimizer.zero_grad()\n",
    "\n",
    "        #########################################################################\n",
    "        #TODO: \n",
    "        # 1. forward pass of the network to obtain the predictions given the batch\n",
    "        # 2. compute the loss using F.binary_cross_entropy\n",
    "        # 3. backward pass on the loss using loss.backward(), and one step \n",
    "        # of gradient descent (optimization) using optimizer.step()\n",
    "        #########################################################################\n",
    "        # Forward pass: obtain predictions from the network\n",
    "        predictions = net(point)\n",
    "\n",
    "        # Compute the binary cross-entropy loss\n",
    "        loss = F.binary_cross_entropy(predictions, label)\n",
    "\n",
    "        # Backward pass and optimization\n",
    "        loss.backward()\n",
    "        optimizer.step()\n",
    "\n",
    "        loss_sum += loss.item()\n",
    "    return loss_sum\n",
    "        "
   ]
  },
  {
   "cell_type": "markdown",
   "metadata": {},
   "source": [
    "You can now run below to train the linear model."
   ]
  },
  {
   "cell_type": "code",
   "execution_count": 6,
   "metadata": {
    "scrolled": true,
    "tags": []
   },
   "outputs": [
    {
     "name": "stdout",
     "output_type": "stream",
     "text": [
      "[Epoch 01] Loss: 8.2864\n",
      "[Epoch 02] Loss: 6.6720\n",
      "[Epoch 03] Loss: 5.6695\n",
      "[Epoch 04] Loss: 5.2724\n",
      "[Epoch 05] Loss: 4.9158\n",
      "[Epoch 06] Loss: 4.5524\n",
      "[Epoch 07] Loss: 4.3285\n",
      "[Epoch 08] Loss: 4.1422\n",
      "[Epoch 09] Loss: 4.2805\n",
      "[Epoch 10] Loss: 3.9274\n",
      "[Epoch 11] Loss: 3.9699\n",
      "[Epoch 12] Loss: 3.8988\n",
      "[Epoch 13] Loss: 4.0480\n",
      "[Epoch 14] Loss: 3.7253\n",
      "[Epoch 15] Loss: 3.7395\n",
      "[Epoch 16] Loss: 3.8041\n",
      "[Epoch 17] Loss: 4.0092\n",
      "[Epoch 18] Loss: 3.8424\n",
      "[Epoch 19] Loss: 3.8302\n",
      "[Epoch 20] Loss: 3.9449\n",
      "[Epoch 21] Loss: 3.7566\n",
      "[Epoch 22] Loss: 3.6047\n",
      "[Epoch 23] Loss: 3.5575\n",
      "[Epoch 24] Loss: 3.4916\n",
      "[Epoch 25] Loss: 3.5798\n",
      "[Epoch 26] Loss: 3.8182\n",
      "[Epoch 27] Loss: 3.8323\n",
      "[Epoch 28] Loss: 3.5109\n",
      "[Epoch 29] Loss: 3.5109\n",
      "[Epoch 30] Loss: 3.7265\n",
      "[Epoch 31] Loss: 3.5428\n",
      "[Epoch 32] Loss: 3.5286\n",
      "[Epoch 33] Loss: 3.4569\n",
      "[Epoch 34] Loss: 3.5447\n",
      "[Epoch 35] Loss: 3.4807\n",
      "[Epoch 36] Loss: 3.5705\n",
      "[Epoch 37] Loss: 3.5676\n",
      "[Epoch 38] Loss: 3.6973\n",
      "[Epoch 39] Loss: 3.6856\n",
      "[Epoch 40] Loss: 3.5326\n",
      "[Epoch 41] Loss: 3.7106\n",
      "[Epoch 42] Loss: 3.4426\n",
      "[Epoch 43] Loss: 3.4934\n",
      "[Epoch 44] Loss: 3.5452\n",
      "[Epoch 45] Loss: 3.4755\n",
      "[Epoch 46] Loss: 3.7209\n",
      "[Epoch 47] Loss: 3.6430\n",
      "[Epoch 48] Loss: 3.7149\n",
      "[Epoch 49] Loss: 3.4384\n",
      "[Epoch 50] Loss: 3.4652\n",
      "[Epoch 51] Loss: 3.4697\n",
      "[Epoch 52] Loss: 3.5798\n",
      "[Epoch 53] Loss: 3.9350\n",
      "[Epoch 54] Loss: 3.4627\n",
      "[Epoch 55] Loss: 3.4990\n",
      "[Epoch 56] Loss: 3.6004\n",
      "[Epoch 57] Loss: 3.7038\n",
      "[Epoch 58] Loss: 3.4634\n",
      "[Epoch 59] Loss: 3.4397\n",
      "[Epoch 60] Loss: 3.4491\n",
      "[Epoch 61] Loss: 3.7124\n",
      "[Epoch 62] Loss: 3.4778\n",
      "[Epoch 63] Loss: 3.4579\n",
      "[Epoch 64] Loss: 3.4563\n",
      "[Epoch 65] Loss: 3.4568\n",
      "[Epoch 66] Loss: 3.5249\n",
      "[Epoch 67] Loss: 3.6359\n",
      "[Epoch 68] Loss: 3.4903\n",
      "[Epoch 69] Loss: 3.5894\n",
      "[Epoch 70] Loss: 3.4728\n",
      "[Epoch 71] Loss: 3.5718\n",
      "[Epoch 72] Loss: 3.4662\n",
      "[Epoch 73] Loss: 3.5129\n",
      "[Epoch 74] Loss: 3.7344\n",
      "[Epoch 75] Loss: 3.4694\n",
      "[Epoch 76] Loss: 3.4745\n",
      "[Epoch 77] Loss: 3.5181\n",
      "[Epoch 78] Loss: 3.8644\n",
      "[Epoch 79] Loss: 3.5036\n",
      "[Epoch 80] Loss: 3.4475\n",
      "[Epoch 81] Loss: 3.6805\n",
      "[Epoch 82] Loss: 3.7313\n",
      "[Epoch 83] Loss: 3.5035\n",
      "[Epoch 84] Loss: 3.5191\n",
      "[Epoch 85] Loss: 3.4857\n",
      "[Epoch 86] Loss: 3.7280\n",
      "[Epoch 87] Loss: 3.5791\n",
      "[Epoch 88] Loss: 3.4974\n",
      "[Epoch 89] Loss: 3.4739\n",
      "[Epoch 90] Loss: 3.6477\n",
      "[Epoch 91] Loss: 3.4774\n",
      "[Epoch 92] Loss: 3.5642\n",
      "[Epoch 93] Loss: 3.5395\n",
      "[Epoch 94] Loss: 3.7007\n",
      "[Epoch 95] Loss: 3.7050\n",
      "[Epoch 96] Loss: 3.4712\n",
      "[Epoch 97] Loss: 3.5390\n",
      "[Epoch 98] Loss: 3.4691\n",
      "[Epoch 99] Loss: 3.4471\n",
      "[Epoch 100] Loss: 3.5349\n"
     ]
    }
   ],
   "source": [
    "NUM_EPOCHS = 100\n",
    "# create the network.\n",
    "net = LinearClassifier()\n",
    "\n",
    "# create the optimizer.\n",
    "optimizer = Adam(net.parameters(), lr=0.1)\n",
    "\n",
    "best_accuracy = 0\n",
    "for epoch_idx in range(NUM_EPOCHS):\n",
    "    loss = train(net, optimizer, train_dataloader, epoch_idx)\n",
    "    print('[Epoch %02d] Loss: %.4f' % (epoch_idx + 1, loss))"
   ]
  },
  {
   "cell_type": "markdown",
   "metadata": {},
   "source": [
    "Now plot your result below.\n"
   ]
  },
  {
   "cell_type": "code",
   "execution_count": 7,
   "metadata": {},
   "outputs": [
    {
     "data": {
      "image/png": "[encoded data removed]",
      "text/plain": [
       "<Figure size 640x480 with 1 Axes>"
      ]
     },
     "metadata": {},
     "output_type": "display_data"
    },
    {
     "data": {
      "text/plain": [
       "<Figure size 640x480 with 0 Axes>"
      ]
     },
     "metadata": {},
     "output_type": "display_data"
    }
   ],
   "source": [
    "p = np.linspace(-0.5, 0.5, 500)\n",
    "x_plot, y_plot = np.meshgrid(p, p)\n",
    "X_plot = np.stack((x_plot, y_plot), axis=2).reshape(-1, 2)\n",
    "X_plot = torch.from_numpy(X_plot).float()\n",
    "output = net(X_plot)\n",
    "output = output.detach().numpy()\n",
    "output = output.reshape(x_plot.shape[0], x_plot.shape[1])\n",
    "\n",
    "plt.contour(x_plot, y_plot, output, [0.5],\n",
    "                  colors=('k',),\n",
    "                  linewidths=(3,))\n",
    "plot(X0, X1)\n"
   ]
  },
  {
   "cell_type": "markdown",
   "metadata": {},
   "source": [
    "### Implement your first multi-layer perceptron (MLP) for point cloud classification\n",
    "Now you should notice that your logistic regression model cannot classify the point cloud correctly, and this is as expected :)  \n",
    "Therefore, we now ask you to implement an MLP for the same binary classification task."
   ]
  },
  {
   "cell_type": "code",
   "execution_count": 8,
   "metadata": {},
   "outputs": [],
   "source": [
    "# These are the parameters to be used\n",
    "nInput = 2\n",
    "nOutput = 1\n",
    "nHidden = 16\n",
    "act_fn = nn.ReLU()\n",
    "\n",
    "class MLP(nn.Module):\n",
    "    def __init__(self, nInput, nOutput, nHidden, act_fn):\n",
    "        super().__init__()\n",
    "\n",
    "        # Define the network layers in order.\n",
    "        # Input is 2D (nInput).\n",
    "        # Output is a single value (nOutput).\n",
    "        # Multiple linear layers each followed by a ReLU non-linearity (apart from the last).\n",
    "        #########################################################################\n",
    "        # TODO: add a two-layer MLP, inside the `nn.Sequential` call.\n",
    "        # Input is 2D.\n",
    "        # Output is a single value.\n",
    "\n",
    "        # Hint: unlike logistic regression where you need only one nn.Linear layer, \n",
    "        # here you will have two nn.Linear layers. After the first layer, we \n",
    "        # apply a ReLU activation function. The output is then passed to another \n",
    "        # linear layer. Note that you should use `nHidden` below as the hidden dimension \n",
    "        # of your linear layers.\n",
    "        #########################################################################\n",
    "        self.model = nn.Sequential(\n",
    "            nn.Linear(nInput, nHidden),     # First linear layer\n",
    "            act_fn,                         # ReLU activation\n",
    "            nn.Linear(nHidden, nOutput)     # Second linear layer\n",
    "        )\n",
    "        \n",
    "    def forward(self, batch):\n",
    "        # Process batch using the defined model.\n",
    "        x = self.model(batch)\n",
    "        # Final sigmoid activation to obtain a probability.\n",
    "        return torch.sigmoid(x)\n"
   ]
  },
  {
   "cell_type": "markdown",
   "metadata": {},
   "source": [
    "Run below again!"
   ]
  },
  {
   "cell_type": "code",
   "execution_count": 9,
   "metadata": {},
   "outputs": [
    {
     "name": "stdout",
     "output_type": "stream",
     "text": [
      "[Epoch 01] Loss: 7.6548\n",
      "[Epoch 02] Loss: 5.2103\n",
      "[Epoch 03] Loss: 4.0513\n",
      "[Epoch 04] Loss: 3.7029\n",
      "[Epoch 05] Loss: 3.6705\n",
      "[Epoch 06] Loss: 3.5001\n",
      "[Epoch 07] Loss: 3.1857\n",
      "[Epoch 08] Loss: 3.2650\n",
      "[Epoch 09] Loss: 3.2566\n",
      "[Epoch 10] Loss: 3.1670\n",
      "[Epoch 11] Loss: 3.3751\n",
      "[Epoch 12] Loss: 3.8778\n",
      "[Epoch 13] Loss: 3.2818\n",
      "[Epoch 14] Loss: 3.2337\n",
      "[Epoch 15] Loss: 3.3099\n",
      "[Epoch 16] Loss: 3.1740\n",
      "[Epoch 17] Loss: 3.3957\n",
      "[Epoch 18] Loss: 3.3987\n",
      "[Epoch 19] Loss: 3.2191\n",
      "[Epoch 20] Loss: 3.1427\n",
      "[Epoch 21] Loss: 3.1157\n",
      "[Epoch 22] Loss: 3.1086\n",
      "[Epoch 23] Loss: 3.0753\n",
      "[Epoch 24] Loss: 3.3380\n",
      "[Epoch 25] Loss: 3.3741\n",
      "[Epoch 26] Loss: 3.2833\n",
      "[Epoch 27] Loss: 3.2355\n",
      "[Epoch 28] Loss: 3.2187\n",
      "[Epoch 29] Loss: 3.1272\n",
      "[Epoch 30] Loss: 3.2921\n",
      "[Epoch 31] Loss: 3.9548\n",
      "[Epoch 32] Loss: 3.6076\n",
      "[Epoch 33] Loss: 3.1644\n",
      "[Epoch 34] Loss: 3.7529\n",
      "[Epoch 35] Loss: 3.0138\n",
      "[Epoch 36] Loss: 3.0240\n",
      "[Epoch 37] Loss: 3.2061\n",
      "[Epoch 38] Loss: 4.0071\n",
      "[Epoch 39] Loss: 3.5612\n",
      "[Epoch 40] Loss: 3.3807\n",
      "[Epoch 41] Loss: 3.0142\n",
      "[Epoch 42] Loss: 3.1025\n",
      "[Epoch 43] Loss: 3.2718\n",
      "[Epoch 44] Loss: 3.5173\n",
      "[Epoch 45] Loss: 3.4110\n",
      "[Epoch 46] Loss: 3.1283\n",
      "[Epoch 47] Loss: 3.1480\n",
      "[Epoch 48] Loss: 3.0785\n",
      "[Epoch 49] Loss: 3.2003\n",
      "[Epoch 50] Loss: 3.1136\n",
      "[Epoch 51] Loss: 3.2608\n",
      "[Epoch 52] Loss: 3.4318\n",
      "[Epoch 53] Loss: 3.1617\n",
      "[Epoch 54] Loss: 3.5660\n",
      "[Epoch 55] Loss: 3.0276\n",
      "[Epoch 56] Loss: 3.2021\n",
      "[Epoch 57] Loss: 3.8998\n",
      "[Epoch 58] Loss: 3.6685\n",
      "[Epoch 59] Loss: 3.0171\n",
      "[Epoch 60] Loss: 3.2102\n",
      "[Epoch 61] Loss: 3.4314\n",
      "[Epoch 62] Loss: 3.3022\n",
      "[Epoch 63] Loss: 3.2094\n",
      "[Epoch 64] Loss: 3.0461\n",
      "[Epoch 65] Loss: 3.2064\n",
      "[Epoch 66] Loss: 3.1117\n",
      "[Epoch 67] Loss: 3.1726\n",
      "[Epoch 68] Loss: 3.1644\n",
      "[Epoch 69] Loss: 3.1070\n",
      "[Epoch 70] Loss: 3.1370\n",
      "[Epoch 71] Loss: 2.9864\n",
      "[Epoch 72] Loss: 3.1185\n",
      "[Epoch 73] Loss: 3.5215\n",
      "[Epoch 74] Loss: 3.2724\n",
      "[Epoch 75] Loss: 3.2747\n",
      "[Epoch 76] Loss: 3.4891\n",
      "[Epoch 77] Loss: 3.0631\n",
      "[Epoch 78] Loss: 3.0145\n",
      "[Epoch 79] Loss: 3.2078\n",
      "[Epoch 80] Loss: 3.1835\n",
      "[Epoch 81] Loss: 3.3030\n",
      "[Epoch 82] Loss: 3.2985\n",
      "[Epoch 83] Loss: 3.3956\n",
      "[Epoch 84] Loss: 3.1815\n",
      "[Epoch 85] Loss: 3.0582\n",
      "[Epoch 86] Loss: 3.2261\n",
      "[Epoch 87] Loss: 3.1145\n",
      "[Epoch 88] Loss: 3.1599\n",
      "[Epoch 89] Loss: 2.9623\n",
      "[Epoch 90] Loss: 3.4038\n",
      "[Epoch 91] Loss: 2.9105\n",
      "[Epoch 92] Loss: 2.9956\n",
      "[Epoch 93] Loss: 3.2279\n",
      "[Epoch 94] Loss: 3.3322\n",
      "[Epoch 95] Loss: 3.1932\n",
      "[Epoch 96] Loss: 3.1362\n",
      "[Epoch 97] Loss: 3.0498\n",
      "[Epoch 98] Loss: 2.8845\n",
      "[Epoch 99] Loss: 3.0544\n",
      "[Epoch 100] Loss: 3.2499\n",
      "[Epoch 101] Loss: 3.0543\n",
      "[Epoch 102] Loss: 2.8886\n",
      "[Epoch 103] Loss: 2.7980\n",
      "[Epoch 104] Loss: 3.1400\n",
      "[Epoch 105] Loss: 3.5390\n",
      "[Epoch 106] Loss: 3.1076\n",
      "[Epoch 107] Loss: 2.9893\n",
      "[Epoch 108] Loss: 2.8011\n",
      "[Epoch 109] Loss: 3.1328\n",
      "[Epoch 110] Loss: 3.1483\n",
      "[Epoch 111] Loss: 2.8113\n",
      "[Epoch 112] Loss: 3.0370\n",
      "[Epoch 113] Loss: 2.9427\n",
      "[Epoch 114] Loss: 3.1182\n",
      "[Epoch 115] Loss: 3.4588\n",
      "[Epoch 116] Loss: 2.9942\n",
      "[Epoch 117] Loss: 2.7509\n",
      "[Epoch 118] Loss: 2.9676\n",
      "[Epoch 119] Loss: 3.0179\n",
      "[Epoch 120] Loss: 2.9820\n",
      "[Epoch 121] Loss: 3.5947\n",
      "[Epoch 122] Loss: 2.6385\n",
      "[Epoch 123] Loss: 3.2619\n",
      "[Epoch 124] Loss: 2.6248\n",
      "[Epoch 125] Loss: 2.6784\n",
      "[Epoch 126] Loss: 2.4781\n",
      "[Epoch 127] Loss: 2.5293\n",
      "[Epoch 128] Loss: 2.3839\n",
      "[Epoch 129] Loss: 2.5492\n",
      "[Epoch 130] Loss: 2.4421\n",
      "[Epoch 131] Loss: 2.1515\n",
      "[Epoch 132] Loss: 2.1287\n",
      "[Epoch 133] Loss: 1.7572\n",
      "[Epoch 134] Loss: 1.6596\n",
      "[Epoch 135] Loss: 1.7191\n",
      "[Epoch 136] Loss: 1.4181\n",
      "[Epoch 137] Loss: 1.4648\n",
      "[Epoch 138] Loss: 1.4637\n",
      "[Epoch 139] Loss: 1.1386\n",
      "[Epoch 140] Loss: 1.0298\n",
      "[Epoch 141] Loss: 0.9925\n",
      "[Epoch 142] Loss: 1.0861\n",
      "[Epoch 143] Loss: 0.8982\n",
      "[Epoch 144] Loss: 0.8748\n",
      "[Epoch 145] Loss: 0.9644\n",
      "[Epoch 146] Loss: 1.0709\n",
      "[Epoch 147] Loss: 0.8075\n",
      "[Epoch 148] Loss: 0.9086\n",
      "[Epoch 149] Loss: 0.8459\n",
      "[Epoch 150] Loss: 0.6700\n",
      "[Epoch 151] Loss: 0.5848\n",
      "[Epoch 152] Loss: 0.5486\n",
      "[Epoch 153] Loss: 0.6231\n",
      "[Epoch 154] Loss: 0.4914\n",
      "[Epoch 155] Loss: 0.5405\n",
      "[Epoch 156] Loss: 0.4678\n",
      "[Epoch 157] Loss: 0.4723\n",
      "[Epoch 158] Loss: 0.3575\n",
      "[Epoch 159] Loss: 0.4012\n",
      "[Epoch 160] Loss: 0.3309\n",
      "[Epoch 161] Loss: 0.3788\n",
      "[Epoch 162] Loss: 0.3566\n",
      "[Epoch 163] Loss: 0.3730\n",
      "[Epoch 164] Loss: 0.3026\n",
      "[Epoch 165] Loss: 0.2870\n",
      "[Epoch 166] Loss: 0.2955\n",
      "[Epoch 167] Loss: 0.2742\n",
      "[Epoch 168] Loss: 0.2936\n",
      "[Epoch 169] Loss: 0.2879\n",
      "[Epoch 170] Loss: 0.3164\n",
      "[Epoch 171] Loss: 0.3556\n",
      "[Epoch 172] Loss: 0.2837\n",
      "[Epoch 173] Loss: 0.3182\n",
      "[Epoch 174] Loss: 0.2497\n",
      "[Epoch 175] Loss: 0.2636\n",
      "[Epoch 176] Loss: 0.2451\n",
      "[Epoch 177] Loss: 0.2019\n",
      "[Epoch 178] Loss: 0.2585\n",
      "[Epoch 179] Loss: 0.2003\n",
      "[Epoch 180] Loss: 0.2287\n",
      "[Epoch 181] Loss: 0.2146\n",
      "[Epoch 182] Loss: 0.2514\n",
      "[Epoch 183] Loss: 0.2332\n",
      "[Epoch 184] Loss: 0.1922\n",
      "[Epoch 185] Loss: 0.1822\n",
      "[Epoch 186] Loss: 0.1879\n",
      "[Epoch 187] Loss: 0.1950\n",
      "[Epoch 188] Loss: 0.1595\n",
      "[Epoch 189] Loss: 0.1680\n",
      "[Epoch 190] Loss: 0.1705\n",
      "[Epoch 191] Loss: 0.1721\n",
      "[Epoch 192] Loss: 0.1455\n",
      "[Epoch 193] Loss: 0.1450\n",
      "[Epoch 194] Loss: 0.2231\n",
      "[Epoch 195] Loss: 0.2380\n",
      "[Epoch 196] Loss: 0.2230\n",
      "[Epoch 197] Loss: 0.1361\n",
      "[Epoch 198] Loss: 0.2070\n",
      "[Epoch 199] Loss: 0.1840\n",
      "[Epoch 200] Loss: 0.2851\n"
     ]
    }
   ],
   "source": [
    "NUM_EPOCHS = 200\n",
    "\n",
    "# create the network.\n",
    "net = MLP(nInput, nOutput, nHidden, act_fn)\n",
    "\n",
    "# create the optimizer.\n",
    "optimizer = Adam(net.parameters(), lr=0.1)\n",
    "\n",
    "best_accuracy = 0\n",
    "for epoch_idx in range(NUM_EPOCHS):\n",
    "    loss = train(net, optimizer, train_dataloader, epoch_idx)\n",
    "    print('[Epoch %02d] Loss: %.4f' % (epoch_idx + 1, loss))"
   ]
  },
  {
   "cell_type": "markdown",
   "metadata": {},
   "source": [
    "Again plot your result. You should see that the decision boundary can clearly separate the point clouds.\n"
   ]
  },
  {
   "cell_type": "code",
   "execution_count": 10,
   "metadata": {},
   "outputs": [
    {
     "data": {
      "image/png": "[encoded data removed]",
      "text/plain": [
       "<Figure size 640x480 with 1 Axes>"
      ]
     },
     "metadata": {},
     "output_type": "display_data"
    },
    {
     "data": {
      "text/plain": [
       "<Figure size 640x480 with 0 Axes>"
      ]
     },
     "metadata": {},
     "output_type": "display_data"
    }
   ],
   "source": [
    "p = np.linspace(-0.5, 0.5, 500)\n",
    "x_plot, y_plot = np.meshgrid(p, p)\n",
    "X_plot = np.stack((x_plot, y_plot), axis=2).reshape(-1, 2)\n",
    "X_plot = torch.from_numpy(X_plot).float()\n",
    "output = net(X_plot)\n",
    "output = output.detach().numpy()\n",
    "output = output.reshape(x_plot.shape[0], x_plot.shape[1])\n",
    "\n",
    "plt.contour(x_plot, y_plot, output, [0.5],\n",
    "                  colors=('k',),\n",
    "                  linewidths=(3,))\n",
    "plot(X0, X1)"
   ]
  },
  {
   "cell_type": "markdown",
   "metadata": {},
   "source": [
    "When you are done, move forward to `image_classification.ipynb`."
   ]
  },
  {
   "cell_type": "markdown",
   "metadata": {},
   "source": []
  }
 ],
 "metadata": {
  "kernelspec": {
   "display_name": "Python 3.9.12 ('base')",
   "language": "python",
   "name": "python3"
  },
  "language_info": {
   "codemirror_mode": {
    "name": "ipython",
    "version": 3
   },
   "file_extension": ".py",
   "mimetype": "text/x-python",
   "name": "python",
   "nbconvert_exporter": "python",
   "pygments_lexer": "ipython3",
   "version": "3.9.18"
  },
  "vscode": {
   "interpreter": {
    "hash": "d268b61a0efacafa8645774cb6d0204c9f01d7563ef03f7672146d044e8f345c"
   }
  }
 },
 "nbformat": 4,
 "nbformat_minor": 4
}
