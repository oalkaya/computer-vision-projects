{
 "cells": [
  {
   "cell_type": "markdown",
   "metadata": {},
   "source": [
    "# Point Cloud Binary Classification with PyTorch"
   ]
  },
  {
   "cell_type": "markdown",
   "metadata": {},
   "source": [
    "Make sure you are using the `dl4cv` conda environment."
   ]
  },
  {
   "cell_type": "markdown",
   "metadata": {},
   "source": [
    "## Dataset loading and visualization"
   ]
  },
  {
   "cell_type": "markdown",
   "metadata": {},
   "source": [
    "The input X contain 100 2D points, and y are their corresponding labels (0 or 1). The goal is to train a model that can classify every point to its correct label.\n"
   ]
  },
  {
   "cell_type": "code",
   "execution_count": 2,
   "metadata": {},
   "outputs": [
    {
     "name": "stderr",
     "output_type": "stream",
     "text": [
      "c:\\Users\\omera\\.conda\\envs\\dl4cv\\lib\\site-packages\\tqdm\\auto.py:21: TqdmWarning: IProgress not found. Please update jupyter and ipywidgets. See https://ipywidgets.readthedocs.io/en/stable/user_install.html\n",
      "  from .autonotebook import tqdm as notebook_tqdm\n"
     ]
    },
    {
     "data": {
      "image/png": "[encoded data removed]",
      "text/plain": [
       "<Figure size 640x480 with 1 Axes>"
      ]
     },
     "metadata": {},
     "output_type": "display_data"
    },
    {
     "data": {
      "text/plain": [
       "<Figure size 640x480 with 0 Axes>"
      ]
     },
     "metadata": {},
     "output_type": "display_data"
    }
   ],
   "source": [
    "%matplotlib inline\n",
    "import matplotlib.pyplot as plt\n",
    "import numpy as np\n",
    "import torch\n",
    "import torch.nn as nn\n",
    "import torch.nn.functional as F\n",
    "import torch.optim as optim\n",
    "from torch.utils.data import Dataset\n",
    "from torch.utils.data import DataLoader\n",
    "from torch.optim import Adam\n",
    "\n",
    "dataset = np.load('data/2d_pcl_dataset.npz')\n",
    "X, y = dataset['X'], dataset['y']\n",
    "\n",
    "X0 = X[y==0] # 50 2D points have label 0\n",
    "X1 = X[y==1] # 50 2D points have label 1\n",
    "\n",
    "def plot(X0, X1, fit_param=None):\n",
    "    plt.scatter(X0[:,0], X0[:,1], color='red', label=0)\n",
    "    plt.scatter(X1[:,0], X1[:,1], color='blue', label=1)\n",
    "    \n",
    "    plt.xlim([-0.55, 0.55])\n",
    "    plt.ylim([-0.35, 0.25])\n",
    "    plt.legend()\n",
    "    plt.show()\n",
    "    plt.clf()\n",
    "\n",
    "plot(X0, X1)"
   ]
  },
  {
   "cell_type": "markdown",
   "metadata": {},
   "source": [
    "## Logistic Regression for the point cloud classification task\n"
   ]
  },
  {
   "cell_type": "markdown",
   "metadata": {},
   "source": [
    "Starting by filling in the `Simple2DDataset` class below. First, in the class constructore `__init__`, you will need to read the right `2d_pcl_dataset.npz` from disk.\n",
    "\n",
    "Second, in the `__getitem__`, you will need to take a single data point and its label based on its index `idx`"
   ]
  },
  {
   "cell_type": "code",
   "execution_count": 3,
   "metadata": {},
   "outputs": [],
   "source": [
    "class Simple2DDataset(Dataset):\n",
    "    def __init__(self):\n",
    "        super().__init__()\n",
    "        #########################################################################\n",
    "        # TODO: read data from disk using np.load.\n",
    "        # Data is located in the folder \"data\".\n",
    "        # Save samples and labels to class members self.X and self.y respectively.\n",
    "        # samples should be an Nx2 numpy array. Labels should be Nx1.\n",
    "        #########################################################################\n",
    "        data = np.load('data/2d_pcl_dataset.npz')\n",
    "        self.X = data['X']\n",
    "        self.y = data['y']\n",
    "     \n",
    "    def __len__(self):\n",
    "        # Returns the number of samples in the dataset.\n",
    "        return self.X.shape[0]\n",
    "    \n",
    "    def __getitem__(self, idx):\n",
    "        #########################################################################\n",
    "        # TODO: return the sample and label with index idx\n",
    "        #########################################################################\n",
    "        point = self.X[idx]\n",
    "        label = self.y[idx]\n",
    "        \n",
    "        # Convert to tensor.\n",
    "        return torch.from_numpy(point).float(), \\\n",
    "               torch.from_numpy(label[np.newaxis]).float()\n"
   ]
  },
  {
   "cell_type": "markdown",
   "metadata": {},
   "source": [
    "With the complete `Simple2DDataset`, we can create a PyTorch dataloader\n",
    "\n",
    "**NOTE**: if you encounter some unexpected errors in data loading, try setting `NUM_WORKERS = 0`"
   ]
  },
  {
   "cell_type": "code",
   "execution_count": 4,
   "metadata": {},
   "outputs": [],
   "source": [
    "BATCH_SIZE = 8\n",
    "NUM_WORKERS = 0\n",
    "\n",
    "# create the dataloader\n",
    "dataset = Simple2DDataset()\n",
    "train_dataloader = DataLoader(\n",
    "    dataset,\n",
    "    batch_size=BATCH_SIZE,\n",
    "    num_workers=NUM_WORKERS,\n",
    "    shuffle=True\n",
    ")"
   ]
  },
  {
   "cell_type": "markdown",
   "metadata": {},
   "source": [
    "Now, define your first network by filling in the `LinearClassifier` class below.\n",
    "\n",
    "Add a single linear layer `nn.Linear` inside the `nn.Sequential` call. The input is 2D, and the output should be a single value, corresponding to the probability of a given 2D point being part of cluster 0."
   ]
  },
  {
   "cell_type": "code",
   "execution_count": 5,
   "metadata": {},
   "outputs": [],
   "source": [
    "class LinearClassifier(nn.Module):\n",
    "    def __init__(self):\n",
    "        super().__init__()\n",
    "\n",
    "        self.codename = 'linear'\n",
    "\n",
    "        #########################################################################\n",
    "        # TODO: add a single linear layer with nn.Linear, inside the `nn.Sequential` call.\n",
    "        # Input is 2D.\n",
    "        # Output is a single value.\n",
    "        #########################################################################\n",
    "        self.model = nn.Sequential(nn.Linear(2, 1))\n",
    "        \n",
    "    def forward(self, batch):\n",
    "        # Process batch using the defined model.\n",
    "        x = self.model(batch)\n",
    "        # Final sigmoid activation to obtain a probability between 0 and 1.\n",
    "        return torch.sigmoid(x)"
   ]
  },
  {
   "cell_type": "markdown",
   "metadata": {},
   "source": [
    "Now, you are asked to implement the training loop below"
   ]
  },
  {
   "cell_type": "code",
   "execution_count": 6,
   "metadata": {},
   "outputs": [],
   "source": [
    "def train(net, optimizer, dataloader, epoch):\n",
    "    net.train()\n",
    "    loss_sum = 0\n",
    "    for batch_idx, (point, label) in enumerate(dataloader):\n",
    "        # First we need to zero the gradient, otherwise PyTorch would accumulate them\n",
    "        optimizer.zero_grad()\n",
    "\n",
    "        #########################################################################\n",
    "        #TODO: \n",
    "        # 1. forward pass of the network to obtain the predictions given the batch\n",
    "        # 2. compute the loss using F.binary_cross_entropy\n",
    "        # 3. backward pass on the loss using loss.backward(), and one step \n",
    "        # of gradient descent (optimization) using optimizer.step()\n",
    "        #########################################################################\n",
    "        # Forward pass: obtain predictions from the network\n",
    "        predictions = net(point)\n",
    "\n",
    "        # Compute the binary cross-entropy loss\n",
    "        loss = F.binary_cross_entropy(predictions, label)\n",
    "\n",
    "        # Backward pass and optimization\n",
    "        loss.backward()\n",
    "        optimizer.step()\n",
    "\n",
    "        loss_sum += loss.item()\n",
    "    return loss_sum\n",
    "        "
   ]
  },
  {
   "cell_type": "markdown",
   "metadata": {},
   "source": [
    "You can now run below to train the linear model."
   ]
  },
  {
   "cell_type": "code",
   "execution_count": 7,
   "metadata": {
    "scrolled": true,
    "tags": []
   },
   "outputs": [
    {
     "name": "stdout",
     "output_type": "stream",
     "text": [
      "[Epoch 01] Loss: 7.7125\n",
      "[Epoch 02] Loss: 6.4513\n",
      "[Epoch 03] Loss: 5.7636\n",
      "[Epoch 04] Loss: 5.1603\n",
      "[Epoch 05] Loss: 4.6940\n",
      "[Epoch 06] Loss: 4.4687\n",
      "[Epoch 07] Loss: 4.4501\n",
      "[Epoch 08] Loss: 4.3824\n",
      "[Epoch 09] Loss: 4.1180\n",
      "[Epoch 10] Loss: 4.0407\n",
      "[Epoch 11] Loss: 4.2366\n",
      "[Epoch 12] Loss: 3.8529\n",
      "[Epoch 13] Loss: 3.8938\n",
      "[Epoch 14] Loss: 3.9670\n",
      "[Epoch 15] Loss: 3.9257\n",
      "[Epoch 16] Loss: 3.7624\n",
      "[Epoch 17] Loss: 3.8854\n",
      "[Epoch 18] Loss: 3.6765\n",
      "[Epoch 19] Loss: 3.5901\n",
      "[Epoch 20] Loss: 3.5542\n",
      "[Epoch 21] Loss: 3.6985\n",
      "[Epoch 22] Loss: 3.5842\n",
      "[Epoch 23] Loss: 3.5217\n",
      "[Epoch 24] Loss: 3.8446\n",
      "[Epoch 25] Loss: 3.7696\n",
      "[Epoch 26] Loss: 3.8965\n",
      "[Epoch 27] Loss: 3.7763\n",
      "[Epoch 28] Loss: 3.5094\n",
      "[Epoch 29] Loss: 3.7436\n",
      "[Epoch 30] Loss: 3.7508\n",
      "[Epoch 31] Loss: 3.7173\n",
      "[Epoch 32] Loss: 3.5217\n",
      "[Epoch 33] Loss: 3.6545\n",
      "[Epoch 34] Loss: 3.6046\n",
      "[Epoch 35] Loss: 3.7295\n",
      "[Epoch 36] Loss: 3.4539\n",
      "[Epoch 37] Loss: 3.4736\n",
      "[Epoch 38] Loss: 3.5269\n",
      "[Epoch 39] Loss: 3.5998\n",
      "[Epoch 40] Loss: 3.4552\n",
      "[Epoch 41] Loss: 3.7317\n",
      "[Epoch 42] Loss: 3.7471\n",
      "[Epoch 43] Loss: 3.6864\n",
      "[Epoch 44] Loss: 3.4521\n",
      "[Epoch 45] Loss: 3.4805\n",
      "[Epoch 46] Loss: 3.7173\n",
      "[Epoch 47] Loss: 3.5760\n",
      "[Epoch 48] Loss: 3.8427\n",
      "[Epoch 49] Loss: 3.5206\n",
      "[Epoch 50] Loss: 3.7276\n",
      "[Epoch 51] Loss: 3.9358\n",
      "[Epoch 52] Loss: 3.4806\n",
      "[Epoch 53] Loss: 3.4792\n",
      "[Epoch 54] Loss: 3.6547\n",
      "[Epoch 55] Loss: 3.4548\n",
      "[Epoch 56] Loss: 3.7620\n",
      "[Epoch 57] Loss: 3.4678\n",
      "[Epoch 58] Loss: 3.5012\n",
      "[Epoch 59] Loss: 3.6973\n",
      "[Epoch 60] Loss: 3.6330\n",
      "[Epoch 61] Loss: 3.5188\n",
      "[Epoch 62] Loss: 3.4358\n",
      "[Epoch 63] Loss: 3.6237\n",
      "[Epoch 64] Loss: 3.4898\n",
      "[Epoch 65] Loss: 3.6324\n",
      "[Epoch 66] Loss: 3.4770\n",
      "[Epoch 67] Loss: 3.4506\n",
      "[Epoch 68] Loss: 3.8012\n",
      "[Epoch 69] Loss: 3.5246\n",
      "[Epoch 70] Loss: 3.9087\n",
      "[Epoch 71] Loss: 3.4155\n",
      "[Epoch 72] Loss: 3.7228\n",
      "[Epoch 73] Loss: 3.4459\n",
      "[Epoch 74] Loss: 3.5714\n",
      "[Epoch 75] Loss: 3.5867\n",
      "[Epoch 76] Loss: 3.4476\n",
      "[Epoch 77] Loss: 3.7445\n",
      "[Epoch 78] Loss: 3.4619\n",
      "[Epoch 79] Loss: 3.4836\n",
      "[Epoch 80] Loss: 3.5542\n",
      "[Epoch 81] Loss: 3.6252\n",
      "[Epoch 82] Loss: 3.5421\n",
      "[Epoch 83] Loss: 3.5201\n",
      "[Epoch 84] Loss: 3.5078\n",
      "[Epoch 85] Loss: 3.4603\n",
      "[Epoch 86] Loss: 3.6339\n",
      "[Epoch 87] Loss: 3.6593\n",
      "[Epoch 88] Loss: 3.4354\n",
      "[Epoch 89] Loss: 3.7778\n",
      "[Epoch 90] Loss: 3.5301\n",
      "[Epoch 91] Loss: 3.5192\n",
      "[Epoch 92] Loss: 3.4759\n",
      "[Epoch 93] Loss: 3.6010\n",
      "[Epoch 94] Loss: 3.4967\n",
      "[Epoch 95] Loss: 3.5881\n",
      "[Epoch 96] Loss: 3.5920\n",
      "[Epoch 97] Loss: 3.4841\n",
      "[Epoch 98] Loss: 3.6311\n",
      "[Epoch 99] Loss: 3.7414\n",
      "[Epoch 100] Loss: 3.9469\n"
     ]
    }
   ],
   "source": [
    "NUM_EPOCHS = 100\n",
    "# create the network.\n",
    "net = LinearClassifier()\n",
    "\n",
    "# create the optimizer.\n",
    "optimizer = Adam(net.parameters(), lr=0.1)\n",
    "\n",
    "best_accuracy = 0\n",
    "for epoch_idx in range(NUM_EPOCHS):\n",
    "    loss = train(net, optimizer, train_dataloader, epoch_idx)\n",
    "    print('[Epoch %02d] Loss: %.4f' % (epoch_idx + 1, loss))"
   ]
  },
  {
   "cell_type": "markdown",
   "metadata": {},
   "source": [
    "Now plot your result below.\n"
   ]
  },
  {
   "cell_type": "code",
   "execution_count": 8,
   "metadata": {},
   "outputs": [
    {
     "data": {
      "image/png": "[encoded data removed]",
      "text/plain": [
       "<Figure size 640x480 with 1 Axes>"
      ]
     },
     "metadata": {},
     "output_type": "display_data"
    },
    {
     "data": {
      "text/plain": [
       "<Figure size 640x480 with 0 Axes>"
      ]
     },
     "metadata": {},
     "output_type": "display_data"
    }
   ],
   "source": [
    "p = np.linspace(-0.5, 0.5, 500)\n",
    "x_plot, y_plot = np.meshgrid(p, p)\n",
    "X_plot = np.stack((x_plot, y_plot), axis=2).reshape(-1, 2)\n",
    "X_plot = torch.from_numpy(X_plot).float()\n",
    "output = net(X_plot)\n",
    "output = output.detach().numpy()\n",
    "output = output.reshape(x_plot.shape[0], x_plot.shape[1])\n",
    "\n",
    "plt.contour(x_plot, y_plot, output, [0.5],\n",
    "                  colors=('k',),\n",
    "                  linewidths=(3,))\n",
    "plot(X0, X1)\n"
   ]
  },
  {
   "cell_type": "markdown",
   "metadata": {},
   "source": [
    "### Implement your first multi-layer perceptron (MLP) for point cloud classification\n",
    "Now you should notice that your logistic regression model cannot classify the point cloud correctly, and this is as expected :)  \n",
    "Therefore, we now ask you to implement an MLP for the same binary classification task."
   ]
  },
  {
   "cell_type": "code",
   "execution_count": 9,
   "metadata": {},
   "outputs": [],
   "source": [
    "# These are the parameters to be used\n",
    "nInput = 2\n",
    "nOutput = 1\n",
    "nHidden = 16\n",
    "act_fn = nn.ReLU()\n",
    "\n",
    "class MLP(nn.Module):\n",
    "    def __init__(self, nInput, nOutput, nHidden, act_fn):\n",
    "        super().__init__()\n",
    "\n",
    "        # Define the network layers in order.\n",
    "        # Input is 2D (nInput).\n",
    "        # Output is a single value (nOutput).\n",
    "        # Multiple linear layers each followed by a ReLU non-linearity (apart from the last).\n",
    "        #########################################################################\n",
    "        # TODO: add a two-layer MLP, inside the `nn.Sequential` call.\n",
    "        # Input is 2D.\n",
    "        # Output is a single value.\n",
    "\n",
    "        # Hint: unlike logistic regression where you need only one nn.Linear layer, \n",
    "        # here you will have two nn.Linear layers. After the first layer, we \n",
    "        # apply a ReLU activation function. The output is then passed to another \n",
    "        # linear layer. Note that you should use `nHidden` below as the hidden dimension \n",
    "        # of your linear layers.\n",
    "        #########################################################################\n",
    "        self.model = nn.Sequential(\n",
    "            nn.Linear(nInput, nHidden),     # First linear layer\n",
    "            act_fn,                         # ReLU activation\n",
    "            nn.Linear(nHidden, nOutput)     # Second linear layer\n",
    "        )\n",
    "        \n",
    "    def forward(self, batch):\n",
    "        # Process batch using the defined model.\n",
    "        x = self.model(batch)\n",
    "        # Final sigmoid activation to obtain a probability.\n",
    "        return torch.sigmoid(x)\n"
   ]
  },
  {
   "cell_type": "markdown",
   "metadata": {},
   "source": [
    "Run below again!"
   ]
  },
  {
   "cell_type": "code",
   "execution_count": 10,
   "metadata": {},
   "outputs": [
    {
     "name": "stdout",
     "output_type": "stream",
     "text": [
      "[Epoch 01] Loss: 7.4535\n",
      "[Epoch 02] Loss: 4.9089\n",
      "[Epoch 03] Loss: 4.0064\n",
      "[Epoch 04] Loss: 3.8242\n",
      "[Epoch 05] Loss: 4.1030\n",
      "[Epoch 06] Loss: 3.6162\n",
      "[Epoch 07] Loss: 3.5932\n",
      "[Epoch 08] Loss: 3.3428\n",
      "[Epoch 09] Loss: 3.2725\n",
      "[Epoch 10] Loss: 3.2572\n",
      "[Epoch 11] Loss: 3.0610\n",
      "[Epoch 12] Loss: 3.4568\n",
      "[Epoch 13] Loss: 3.8487\n",
      "[Epoch 14] Loss: 3.5124\n",
      "[Epoch 15] Loss: 3.2614\n",
      "[Epoch 16] Loss: 3.3056\n",
      "[Epoch 17] Loss: 3.0944\n",
      "[Epoch 18] Loss: 3.4858\n",
      "[Epoch 19] Loss: 3.1375\n",
      "[Epoch 20] Loss: 3.4651\n",
      "[Epoch 21] Loss: 3.1439\n",
      "[Epoch 22] Loss: 3.0775\n",
      "[Epoch 23] Loss: 3.1452\n",
      "[Epoch 24] Loss: 3.2654\n",
      "[Epoch 25] Loss: 3.6498\n",
      "[Epoch 26] Loss: 3.4236\n",
      "[Epoch 27] Loss: 3.5764\n",
      "[Epoch 28] Loss: 3.2113\n",
      "[Epoch 29] Loss: 3.0071\n",
      "[Epoch 30] Loss: 3.0791\n",
      "[Epoch 31] Loss: 3.8957\n",
      "[Epoch 32] Loss: 3.8447\n",
      "[Epoch 33] Loss: 3.3692\n",
      "[Epoch 34] Loss: 3.3145\n",
      "[Epoch 35] Loss: 3.4500\n",
      "[Epoch 36] Loss: 3.9058\n",
      "[Epoch 37] Loss: 3.3313\n",
      "[Epoch 38] Loss: 3.4314\n",
      "[Epoch 39] Loss: 3.6215\n",
      "[Epoch 40] Loss: 3.4485\n",
      "[Epoch 41] Loss: 3.1092\n",
      "[Epoch 42] Loss: 3.2603\n",
      "[Epoch 43] Loss: 3.2376\n",
      "[Epoch 44] Loss: 3.0955\n",
      "[Epoch 45] Loss: 3.0610\n",
      "[Epoch 46] Loss: 3.6108\n",
      "[Epoch 47] Loss: 3.3822\n",
      "[Epoch 48] Loss: 3.2472\n",
      "[Epoch 49] Loss: 3.1057\n",
      "[Epoch 50] Loss: 3.0336\n",
      "[Epoch 51] Loss: 3.1320\n",
      "[Epoch 52] Loss: 3.4699\n",
      "[Epoch 53] Loss: 3.0834\n",
      "[Epoch 54] Loss: 3.3595\n",
      "[Epoch 55] Loss: 3.1642\n",
      "[Epoch 56] Loss: 3.1766\n",
      "[Epoch 57] Loss: 3.4388\n",
      "[Epoch 58] Loss: 3.5240\n",
      "[Epoch 59] Loss: 3.1994\n",
      "[Epoch 60] Loss: 3.2618\n",
      "[Epoch 61] Loss: 3.6172\n",
      "[Epoch 62] Loss: 3.4541\n",
      "[Epoch 63] Loss: 3.5840\n",
      "[Epoch 64] Loss: 3.1680\n",
      "[Epoch 65] Loss: 3.1419\n",
      "[Epoch 66] Loss: 3.0428\n",
      "[Epoch 67] Loss: 3.3298\n",
      "[Epoch 68] Loss: 3.7272\n",
      "[Epoch 69] Loss: 3.5344\n",
      "[Epoch 70] Loss: 3.2076\n",
      "[Epoch 71] Loss: 3.3103\n",
      "[Epoch 72] Loss: 3.0866\n",
      "[Epoch 73] Loss: 3.0659\n",
      "[Epoch 74] Loss: 3.5370\n",
      "[Epoch 75] Loss: 3.7804\n",
      "[Epoch 76] Loss: 3.4593\n",
      "[Epoch 77] Loss: 3.2085\n",
      "[Epoch 78] Loss: 3.2795\n",
      "[Epoch 79] Loss: 3.5980\n",
      "[Epoch 80] Loss: 3.0617\n",
      "[Epoch 81] Loss: 3.4822\n",
      "[Epoch 82] Loss: 3.3820\n",
      "[Epoch 83] Loss: 3.0523\n",
      "[Epoch 84] Loss: 3.0301\n",
      "[Epoch 85] Loss: 3.2946\n",
      "[Epoch 86] Loss: 3.1139\n",
      "[Epoch 87] Loss: 3.2640\n",
      "[Epoch 88] Loss: 3.1003\n",
      "[Epoch 89] Loss: 3.4721\n",
      "[Epoch 90] Loss: 3.0429\n",
      "[Epoch 91] Loss: 3.1392\n",
      "[Epoch 92] Loss: 3.0613\n",
      "[Epoch 93] Loss: 3.1875\n",
      "[Epoch 94] Loss: 3.5422\n",
      "[Epoch 95] Loss: 3.2129\n",
      "[Epoch 96] Loss: 3.0861\n",
      "[Epoch 97] Loss: 3.0778\n",
      "[Epoch 98] Loss: 3.0213\n",
      "[Epoch 99] Loss: 2.9461\n",
      "[Epoch 100] Loss: 3.2406\n",
      "[Epoch 101] Loss: 3.1258\n",
      "[Epoch 102] Loss: 3.1068\n",
      "[Epoch 103] Loss: 3.6383\n",
      "[Epoch 104] Loss: 3.4012\n",
      "[Epoch 105] Loss: 3.5867\n",
      "[Epoch 106] Loss: 3.5066\n",
      "[Epoch 107] Loss: 3.4039\n",
      "[Epoch 108] Loss: 2.8678\n",
      "[Epoch 109] Loss: 3.2471\n",
      "[Epoch 110] Loss: 3.1007\n",
      "[Epoch 111] Loss: 3.0478\n",
      "[Epoch 112] Loss: 3.0680\n",
      "[Epoch 113] Loss: 2.8949\n",
      "[Epoch 114] Loss: 3.0029\n",
      "[Epoch 115] Loss: 3.3097\n",
      "[Epoch 116] Loss: 3.0031\n",
      "[Epoch 117] Loss: 3.2889\n",
      "[Epoch 118] Loss: 2.8953\n",
      "[Epoch 119] Loss: 2.9418\n",
      "[Epoch 120] Loss: 2.9194\n",
      "[Epoch 121] Loss: 2.9518\n",
      "[Epoch 122] Loss: 3.0004\n",
      "[Epoch 123] Loss: 2.7996\n",
      "[Epoch 124] Loss: 2.4292\n",
      "[Epoch 125] Loss: 2.5869\n",
      "[Epoch 126] Loss: 2.2474\n",
      "[Epoch 127] Loss: 2.3241\n",
      "[Epoch 128] Loss: 1.9613\n",
      "[Epoch 129] Loss: 1.7903\n",
      "[Epoch 130] Loss: 1.6807\n",
      "[Epoch 131] Loss: 1.7814\n",
      "[Epoch 132] Loss: 1.5194\n",
      "[Epoch 133] Loss: 1.3834\n",
      "[Epoch 134] Loss: 1.1664\n",
      "[Epoch 135] Loss: 1.3328\n",
      "[Epoch 136] Loss: 1.0094\n",
      "[Epoch 137] Loss: 1.0059\n",
      "[Epoch 138] Loss: 1.0553\n",
      "[Epoch 139] Loss: 0.9877\n",
      "[Epoch 140] Loss: 0.8794\n",
      "[Epoch 141] Loss: 0.8032\n",
      "[Epoch 142] Loss: 0.9546\n",
      "[Epoch 143] Loss: 0.7859\n",
      "[Epoch 144] Loss: 0.6253\n",
      "[Epoch 145] Loss: 0.6219\n",
      "[Epoch 146] Loss: 0.6308\n",
      "[Epoch 147] Loss: 0.5665\n",
      "[Epoch 148] Loss: 0.5795\n",
      "[Epoch 149] Loss: 0.5930\n",
      "[Epoch 150] Loss: 0.6186\n",
      "[Epoch 151] Loss: 0.5671\n",
      "[Epoch 152] Loss: 0.4297\n",
      "[Epoch 153] Loss: 0.5053\n",
      "[Epoch 154] Loss: 0.4094\n",
      "[Epoch 155] Loss: 0.4048\n",
      "[Epoch 156] Loss: 0.3971\n",
      "[Epoch 157] Loss: 0.3528\n",
      "[Epoch 158] Loss: 0.4152\n",
      "[Epoch 159] Loss: 0.3620\n",
      "[Epoch 160] Loss: 0.4026\n",
      "[Epoch 161] Loss: 0.3258\n",
      "[Epoch 162] Loss: 0.3088\n",
      "[Epoch 163] Loss: 0.3359\n",
      "[Epoch 164] Loss: 0.3113\n",
      "[Epoch 165] Loss: 0.3447\n",
      "[Epoch 166] Loss: 0.3850\n",
      "[Epoch 167] Loss: 0.3446\n",
      "[Epoch 168] Loss: 0.3218\n",
      "[Epoch 169] Loss: 0.2622\n",
      "[Epoch 170] Loss: 0.2516\n",
      "[Epoch 171] Loss: 0.2308\n",
      "[Epoch 172] Loss: 0.2535\n",
      "[Epoch 173] Loss: 0.2535\n",
      "[Epoch 174] Loss: 0.2266\n",
      "[Epoch 175] Loss: 0.2152\n",
      "[Epoch 176] Loss: 0.2169\n",
      "[Epoch 177] Loss: 0.2104\n",
      "[Epoch 178] Loss: 0.1958\n",
      "[Epoch 179] Loss: 0.2163\n",
      "[Epoch 180] Loss: 0.1874\n",
      "[Epoch 181] Loss: 0.2119\n",
      "[Epoch 182] Loss: 0.1883\n",
      "[Epoch 183] Loss: 0.1927\n",
      "[Epoch 184] Loss: 0.1796\n",
      "[Epoch 185] Loss: 0.1841\n",
      "[Epoch 186] Loss: 0.2030\n",
      "[Epoch 187] Loss: 0.1774\n",
      "[Epoch 188] Loss: 0.1626\n",
      "[Epoch 189] Loss: 0.1669\n",
      "[Epoch 190] Loss: 0.1793\n",
      "[Epoch 191] Loss: 0.2732\n",
      "[Epoch 192] Loss: 0.1527\n",
      "[Epoch 193] Loss: 0.2081\n",
      "[Epoch 194] Loss: 0.1511\n",
      "[Epoch 195] Loss: 0.1461\n",
      "[Epoch 196] Loss: 0.1313\n",
      "[Epoch 197] Loss: 0.1309\n",
      "[Epoch 198] Loss: 0.1438\n",
      "[Epoch 199] Loss: 0.1294\n",
      "[Epoch 200] Loss: 0.1413\n"
     ]
    }
   ],
   "source": [
    "NUM_EPOCHS = 200\n",
    "\n",
    "# create the network.\n",
    "net = MLP(nInput, nOutput, nHidden, act_fn)\n",
    "\n",
    "# create the optimizer.\n",
    "optimizer = Adam(net.parameters(), lr=0.1)\n",
    "\n",
    "best_accuracy = 0\n",
    "for epoch_idx in range(NUM_EPOCHS):\n",
    "    loss = train(net, optimizer, train_dataloader, epoch_idx)\n",
    "    print('[Epoch %02d] Loss: %.4f' % (epoch_idx + 1, loss))"
   ]
  },
  {
   "cell_type": "markdown",
   "metadata": {},
   "source": [
    "Again plot your result. You should see that the decision boundary can clearly separate the point clouds.\n"
   ]
  },
  {
   "cell_type": "code",
   "execution_count": 11,
   "metadata": {},
   "outputs": [
    {
     "data": {
      "image/png": "[encoded data removed]",
      "text/plain": [
       "<Figure size 640x480 with 1 Axes>"
      ]
     },
     "metadata": {},
     "output_type": "display_data"
    },
    {
     "data": {
      "text/plain": [
       "<Figure size 640x480 with 0 Axes>"
      ]
     },
     "metadata": {},
     "output_type": "display_data"
    }
   ],
   "source": [
    "p = np.linspace(-0.5, 0.5, 500)\n",
    "x_plot, y_plot = np.meshgrid(p, p)\n",
    "X_plot = np.stack((x_plot, y_plot), axis=2).reshape(-1, 2)\n",
    "X_plot = torch.from_numpy(X_plot).float()\n",
    "output = net(X_plot)\n",
    "output = output.detach().numpy()\n",
    "output = output.reshape(x_plot.shape[0], x_plot.shape[1])\n",
    "\n",
    "plt.contour(x_plot, y_plot, output, [0.5],\n",
    "                  colors=('k',),\n",
    "                  linewidths=(3,))\n",
    "plot(X0, X1)"
   ]
  },
  {
   "cell_type": "markdown",
   "metadata": {},
   "source": [
    "When you are done, move forward to `image_classification.ipynb`."
   ]
  },
  {
   "cell_type": "markdown",
   "metadata": {},
   "source": []
  }
 ],
 "metadata": {
  "kernelspec": {
   "display_name": "Python 3.9.12 ('base')",
   "language": "python",
   "name": "python3"
  },
  "language_info": {
   "codemirror_mode": {
    "name": "ipython",
    "version": 3
   },
   "file_extension": ".py",
   "mimetype": "text/x-python",
   "name": "python",
   "nbconvert_exporter": "python",
   "pygments_lexer": "ipython3",
   "version": "3.9.18"
  },
  "vscode": {
   "interpreter": {
    "hash": "d268b61a0efacafa8645774cb6d0204c9f01d7563ef03f7672146d044e8f345c"
   }
  }
 },
 "nbformat": 4,
 "nbformat_minor": 4
}
