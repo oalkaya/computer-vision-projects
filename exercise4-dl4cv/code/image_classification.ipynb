{
 "cells": [
  {
   "cell_type": "markdown",
   "metadata": {},
   "source": [
    "# Image Classification with PyTorch"
   ]
  },
  {
   "cell_type": "markdown",
   "metadata": {},
   "source": [
    "## Data loading\n"
   ]
  },
  {
   "cell_type": "code",
   "execution_count": 1,
   "metadata": {},
   "outputs": [],
   "source": [
    "import numpy as np\n",
    "import matplotlib.pyplot as plt\n",
    "\n",
    "import torch\n",
    "import torch.nn as nn\n",
    "import torch.nn.functional as F\n",
    "import torch.optim as optim\n",
    "from torch.utils.data import DataLoader\n",
    "import torchvision\n",
    "from torchvision import datasets, transforms"
   ]
  },
  {
   "cell_type": "code",
   "execution_count": 2,
   "metadata": {},
   "outputs": [],
   "source": [
    "# torchvision contains convinience functions for popular datasets\n",
    "ds_train = datasets.MNIST('data', train=True, download=True)"
   ]
  },
  {
   "cell_type": "markdown",
   "metadata": {},
   "source": [
    "Each sample is a 28x28 image"
   ]
  },
  {
   "cell_type": "code",
   "execution_count": 3,
   "metadata": {},
   "outputs": [
    {
     "name": "stdout",
     "output_type": "stream",
     "text": [
      "(<PIL.Image.Image image mode=L size=28x28 at 0x29B9DCBEB10>, 5)\n"
     ]
    },
    {
     "data": {
      "image/jpeg": "[encoded data removed]",
      "image/png": "[encoded data removed]",
      "text/plain": [
       "<PIL.Image.Image image mode=L size=120x120>"
      ]
     },
     "execution_count": 3,
     "metadata": {},
     "output_type": "execute_result"
    }
   ],
   "source": [
    "# if we index this dataset, we get a single data point: a PIL image and an Integer\n",
    "print(ds_train[0])\n",
    "ds_train[0][0].resize((120,120))"
   ]
  },
  {
   "cell_type": "markdown",
   "metadata": {},
   "source": [
    "Let's transform the data to something that our Pytorch models will understand\n",
    "for this purpose, we can supply a transform function to the datase"
   ]
  },
  {
   "cell_type": "code",
   "execution_count": 4,
   "metadata": {},
   "outputs": [],
   "source": [
    "transform = transforms.Compose([\n",
    "    transforms.ToTensor(),\n",
    "])\n",
    "ds_train = datasets.MNIST('data', train=True, download=True, transform=transform)"
   ]
  },
  {
   "cell_type": "markdown",
   "metadata": {},
   "source": [
    "The image is now a `torch.Tensor`"
   ]
  },
  {
   "cell_type": "code",
   "execution_count": 5,
   "metadata": {},
   "outputs": [
    {
     "data": {
      "text/plain": [
       "torch.Tensor"
      ]
     },
     "execution_count": 5,
     "metadata": {},
     "output_type": "execute_result"
    }
   ],
   "source": [
    "type(ds_train[0][0])"
   ]
  },
  {
   "cell_type": "markdown",
   "metadata": {},
   "source": [
    "The normalization is something you learned about in the lecture. Normalizing with $\\mu=0, \\sigma=1$ corresponds to no normalization. Let's compute the proper normalization constants!"
   ]
  },
  {
   "cell_type": "code",
   "execution_count": 6,
   "metadata": {},
   "outputs": [],
   "source": [
    "# lets get only the images \n",
    "ims_train = ds_train.data\n",
    "ims_train = ims_train.float() / 255."
   ]
  },
  {
   "cell_type": "code",
   "execution_count": 7,
   "metadata": {},
   "outputs": [
    {
     "name": "stdout",
     "output_type": "stream",
     "text": [
      "Mean (mu): 0.13066047430038452\n",
      "Standard Deviation (std): 0.30810782313346863\n"
     ]
    }
   ],
   "source": [
    "#########################################################################\n",
    "# TODO: calculate the mean and std of MNIST images\n",
    "# hint: to look for operations on pytorch tensor, refer to the official PyTorch docs \n",
    "# https://pytorch.org/docs/stable/\n",
    "#########################################################################\n",
    "\n",
    "##### MY INITIAL APPROACH #####\n",
    "\n",
    "# # Initialize variables to accumulate the sum of pixel values and pixel value squared\n",
    "# sum_channel = 0.0\n",
    "# sum_squared_channel = 0.0\n",
    "# total_images = len(ims_train)\n",
    "\n",
    "# # Iterate through the dataset to calculate the mean\n",
    "# for image in ims_train:\n",
    "#     sum_channel += image.sum()\n",
    "\n",
    "# # Calculate the mean\n",
    "# mu = sum_channel / (total_images * 28 * 28)  # MNIST images are 28x28 pixels\n",
    "\n",
    "# # Initialize variables to accumulate the sum of squared pixel values\n",
    "# # This will be used to calculate the standard deviation\n",
    "# for image in ims_train:\n",
    "#     sum_squared_channel += (image - mu).pow(2).sum()\n",
    "\n",
    "# # Calculate the standard deviation\n",
    "# std = (sum_squared_channel / (total_images * 28 * 28)).sqrt()\n",
    "\n",
    "##### PYTORCH SHORTHAND #####:\n",
    "mu = torch.mean(ims_train)\n",
    "std = ims_train.std()\n",
    "\n",
    "print(f\"Mean (mu): {mu}\")                   # Should be around 0.1307 according to MNIST\n",
    "print(f\"Standard Deviation (std): {std}\")   # Should be around 0.3081 according to MNIST"
   ]
  },
  {
   "cell_type": "markdown",
   "metadata": {},
   "source": [
    "We normalize the data as below."
   ]
  },
  {
   "cell_type": "code",
   "execution_count": 8,
   "metadata": {},
   "outputs": [],
   "source": [
    "transform = transforms.Compose([\n",
    "    transforms.ToTensor(),\n",
    "    transforms.Normalize(mu, std)\n",
    "])\n",
    "ds_train = datasets.MNIST('data', train=True, download=True, transform=transform)\n",
    "ds_test = datasets.MNIST('data', train=False, download=True, transform=transform)"
   ]
  },
  {
   "cell_type": "code",
   "execution_count": 9,
   "metadata": {},
   "outputs": [
    {
     "data": {
      "text/plain": [
       "(tensor(-0.4241), tensor(2.8215))"
      ]
     },
     "execution_count": 9,
     "metadata": {},
     "output_type": "execute_result"
    }
   ],
   "source": [
    "ds_train[0][0].min(), ds_train[0][0].max()"
   ]
  },
  {
   "cell_type": "markdown",
   "metadata": {},
   "source": [
    "Next, we want to receive mini-batches, not only single data points.\n",
    "We use PyTorch's DataLoader class. Build a dataloader with a batch size of 64 and 4 workers (number of subprocess that peform the dataloading). Important: you need to shuffle the training data, not the test data.\n",
    "\n",
    "**NOTE**: if you encounter some unexpected errors in data loading, try setting `NUM_WORKERS = 0`"
   ]
  },
  {
   "cell_type": "code",
   "execution_count": 10,
   "metadata": {},
   "outputs": [],
   "source": [
    "BATCH_SIZE = 64\n",
    "NUM_WORKERS = 4\n",
    "#########################################################################\n",
    "# TODO: Build a dataloader for both train and test data.\n",
    "#########################################################################\n",
    "dl_train = DataLoader(ds_train, batch_size=BATCH_SIZE, shuffle=True, num_workers=NUM_WORKERS)\n",
    "dl_test = DataLoader(ds_test, batch_size=BATCH_SIZE, shuffle=False, num_workers=NUM_WORKERS)"
   ]
  },
  {
   "cell_type": "markdown",
   "metadata": {},
   "source": [
    "## MLP in Pytorch\n",
    "\n",
    "Ok, the dataloading works. Let's build our model, PyTorch makes this very easy. We will build replicate the model from our last exercises. However, now, we add another variable called `nLayer` that indicates how many linear layers that in your network. Please adapt your code from last exercise accordingly to allow different number of layers."
   ]
  },
  {
   "cell_type": "code",
   "execution_count": 11,
   "metadata": {},
   "outputs": [],
   "source": [
    "# These are the parameters to be used\n",
    "nInput = 784\n",
    "nOutput = 10\n",
    "nLayer = 2\n",
    "nHidden = 16\n",
    "act_fn = nn.ReLU()"
   ]
  },
  {
   "cell_type": "code",
   "execution_count": 12,
   "metadata": {},
   "outputs": [],
   "source": [
    "#########################################################################\n",
    "# TODO: Implement the __init__ of the MLP class. \n",
    "# insert the activation after every linear layer. Important: the number of \n",
    "# hidden layers should be variable!\n",
    "#########################################################################\n",
    "\n",
    "class MLP(nn.Module):\n",
    "    def __init__(self, nInput, nOutput, nLayer, nHidden, act_fn):\n",
    "        super(MLP, self).__init__()\n",
    "        layers = [] \n",
    "        \n",
    "        ##### implement this part #####\n",
    "\n",
    "        # Input layer\n",
    "        layers.append(nn.Linear(nInput, nHidden))\n",
    "        layers.append(act_fn)\n",
    "        \n",
    "        # Hidden layers\n",
    "        for _ in range(nLayer - 1):  # Subtract 1 for the input layer\n",
    "            layers.append(nn.Linear(nHidden, nHidden))\n",
    "            layers.append(act_fn)\n",
    "        \n",
    "        # Output layer\n",
    "        layers.append(nn.Linear(nHidden, nOutput))\n",
    "        \n",
    "        self.model = nn.Sequential(*layers)\n",
    "        \n",
    "        \n",
    "        ###############################\n",
    "        \n",
    "        self.model = nn.Sequential(*layers)\n",
    "\n",
    "    def forward(self, x):\n",
    "        x = torch.flatten(x, 1)\n",
    "        return self.model(x)"
   ]
  },
  {
   "cell_type": "code",
   "execution_count": 13,
   "metadata": {
    "scrolled": true
   },
   "outputs": [
    {
     "data": {
      "text/plain": [
       "torch.Size([1, 10])"
      ]
     },
     "execution_count": 13,
     "metadata": {},
     "output_type": "execute_result"
    }
   ],
   "source": [
    "# Let's test if the forward pass works\n",
    "# this should print torch.Size([1, 10])\n",
    "t = torch.randn(1,1,28,28)\n",
    "mlp = MLP(nInput, nOutput, nLayer, nHidden, act_fn)\n",
    "mlp(t).shape"
   ]
  },
  {
   "cell_type": "code",
   "execution_count": 14,
   "metadata": {},
   "outputs": [
    {
     "data": {
      "text/plain": [
       "MLP(\n",
       "  (model): Sequential(\n",
       "    (0): Linear(in_features=784, out_features=16, bias=True)\n",
       "    (1): ReLU()\n",
       "    (2): Linear(in_features=16, out_features=16, bias=True)\n",
       "    (3): ReLU()\n",
       "    (4): Linear(in_features=16, out_features=10, bias=True)\n",
       "  )\n",
       ")"
      ]
     },
     "execution_count": 14,
     "metadata": {},
     "output_type": "execute_result"
    }
   ],
   "source": [
    "mlp"
   ]
  },
  {
   "cell_type": "markdown",
   "metadata": {},
   "source": [
    "We already implemented the test function for you"
   ]
  },
  {
   "cell_type": "code",
   "execution_count": 15,
   "metadata": {},
   "outputs": [],
   "source": [
    "def test(model, dl_test, device='cuda:0'):\n",
    "    model.eval()\n",
    "    model.to(device)\n",
    "    test_loss = 0\n",
    "    correct = 0\n",
    "    with torch.no_grad():\n",
    "        for data, target in dl_test:\n",
    "            data, target = data.to(device), target.to(device)\n",
    "            output = model(data)\n",
    "            test_loss += F.cross_entropy(output, target, reduction='sum').item()  # sum up batch loss\n",
    "            pred = output.argmax(dim=1, keepdim=True)  # get the index of the max log-probability\n",
    "            correct += pred.eq(target.view_as(pred)).sum().item()\n",
    "\n",
    "    test_loss /= len(dl_test.dataset)\n",
    "\n",
    "    print('\\nTest set: Average loss: {:.4f}, Accuracy: {}/{} ({:.3f}%)\\n'.format(\n",
    "        test_loss, correct, len(dl_test.dataset),\n",
    "        100. * correct / len(dl_test.dataset)))"
   ]
  },
  {
   "cell_type": "markdown",
   "metadata": {},
   "source": [
    "Now you only need to implement the training and you are good to go"
   ]
  },
  {
   "cell_type": "code",
   "execution_count": 16,
   "metadata": {},
   "outputs": [],
   "source": [
    "#########################################################################\n",
    "# TODO: Implement the missing part of the training function. As a loss function we want to use cross entropy\n",
    "# It can be called with F.cross_entropy().\n",
    "# Hint: Pass through the model -> Backpropagate gradients -> Take gradient step\n",
    "#########################################################################\n",
    "\n",
    "def train(model, dl_train, optimizer, epoch, log_interval=100, device='cuda:0'):\n",
    "    model.train()\n",
    "    model.to(device)\n",
    "    correct = 0\n",
    "    for batch_idx, (data, target) in enumerate(dl_train):\n",
    "        data, target = data.to(device), target.to(device)\n",
    "        \n",
    "        # first we need to zero the gradient, otherwise PyTorch would accumulate them\n",
    "        optimizer.zero_grad()         \n",
    "        \n",
    "        ##### implement this part #####\n",
    "\n",
    "        # Forward pass\n",
    "        output = model(data)\n",
    "\n",
    "        # Calculate the cross-entropy loss\n",
    "        loss = F.cross_entropy(output, target)\n",
    "\n",
    "        # Backpropagate gradients\n",
    "        loss.backward()\n",
    "\n",
    "        # Take a gradient step\n",
    "        optimizer.step()\n",
    "      \n",
    "        ###############################\n",
    "\n",
    "        # stats\n",
    "        pred = output.argmax(dim=1, keepdim=True)  # get the index of the max log-probability\n",
    "        correct += pred.eq(target.view_as(pred)).sum().item()\n",
    "\n",
    "        if batch_idx % log_interval == 0:\n",
    "            print('Train Epoch: {} [{}/{} ({:.0f}%)]\\tLoss: {:.6f}'.format(\n",
    "                epoch, batch_idx * len(data), len(dl_train.dataset),\n",
    "                100. * batch_idx / len(dl_train), loss.item()))\n",
    "\n",
    "    print('\\nTrain set: Average loss: {:.4f}, Accuracy: {}/{} ({:.1f}%)\\n'.format(\n",
    "        loss, correct, len(dl_train.dataset),\n",
    "        100. * correct / len(dl_train.dataset)))"
   ]
  },
  {
   "cell_type": "markdown",
   "metadata": {},
   "source": [
    "Ok, the setup is almost done. The onoly missing part is the optimizer. We are going to use Adam."
   ]
  },
  {
   "cell_type": "code",
   "execution_count": 17,
   "metadata": {},
   "outputs": [],
   "source": [
    "# reinitialize the mlp, so we can play with parameters right here\n",
    "mlp = MLP(nInput, nOutput, nLayer, nHidden, act_fn)\n",
    "optimizer = optim.Adam(mlp.parameters())"
   ]
  },
  {
   "cell_type": "code",
   "execution_count": 18,
   "metadata": {},
   "outputs": [
    {
     "name": "stdout",
     "output_type": "stream",
     "text": [
      "Number of CUDA devices available: 1\n",
      "Current CUDA device name: NVIDIA GeForce RTX 4090\n"
     ]
    }
   ],
   "source": [
    "# Sanity check for GPU\n",
    "if torch.cuda.is_available():\n",
    "    # Number of available CUDA devices\n",
    "    num_cuda_devices = torch.cuda.device_count()\n",
    "\n",
    "    print(f\"Number of CUDA devices available: {num_cuda_devices}\")\n",
    "\n",
    "    # Name of the current CUDA device (you can specify a device number)\n",
    "    current_device_name = torch.cuda.get_device_name(0)  # 0 is the default device\n",
    "    print(f\"Current CUDA device name: {current_device_name}\")\n",
    "\n",
    "else:\n",
    "    print(\"CUDA is not available on this system.\")"
   ]
  },
  {
   "cell_type": "code",
   "execution_count": 19,
   "metadata": {
    "scrolled": true
   },
   "outputs": [
    {
     "name": "stdout",
     "output_type": "stream",
     "text": [
      "Train Epoch: 1 [0/60000 (0%)]\tLoss: 2.320024\n",
      "Train Epoch: 1 [6400/60000 (11%)]\tLoss: 0.604632\n",
      "Train Epoch: 1 [12800/60000 (21%)]\tLoss: 0.263216\n",
      "Train Epoch: 1 [19200/60000 (32%)]\tLoss: 0.388265\n",
      "Train Epoch: 1 [25600/60000 (43%)]\tLoss: 0.412447\n",
      "Train Epoch: 1 [32000/60000 (53%)]\tLoss: 0.345708\n",
      "Train Epoch: 1 [38400/60000 (64%)]\tLoss: 0.411155\n",
      "Train Epoch: 1 [44800/60000 (75%)]\tLoss: 0.169933\n",
      "Train Epoch: 1 [51200/60000 (85%)]\tLoss: 0.110355\n",
      "Train Epoch: 1 [57600/60000 (96%)]\tLoss: 0.379738\n",
      "\n",
      "Train set: Average loss: 0.4389, Accuracy: 52331/60000 (87.2%)\n",
      "\n",
      "\n",
      "Test set: Average loss: 0.2629, Accuracy: 9239/10000 (92.390%)\n",
      "\n",
      "Train Epoch: 2 [0/60000 (0%)]\tLoss: 0.250146\n",
      "Train Epoch: 2 [6400/60000 (11%)]\tLoss: 0.161333\n",
      "Train Epoch: 2 [12800/60000 (21%)]\tLoss: 0.266478\n",
      "Train Epoch: 2 [19200/60000 (32%)]\tLoss: 0.360505\n",
      "Train Epoch: 2 [25600/60000 (43%)]\tLoss: 0.388288\n",
      "Train Epoch: 2 [32000/60000 (53%)]\tLoss: 0.150612\n",
      "Train Epoch: 2 [38400/60000 (64%)]\tLoss: 0.202090\n",
      "Train Epoch: 2 [44800/60000 (75%)]\tLoss: 0.306991\n",
      "Train Epoch: 2 [51200/60000 (85%)]\tLoss: 0.359105\n",
      "Train Epoch: 2 [57600/60000 (96%)]\tLoss: 0.119175\n",
      "\n",
      "Train set: Average loss: 0.2865, Accuracy: 55888/60000 (93.1%)\n",
      "\n",
      "\n",
      "Test set: Average loss: 0.2127, Accuracy: 9368/10000 (93.680%)\n",
      "\n",
      "Train Epoch: 3 [0/60000 (0%)]\tLoss: 0.232633\n",
      "Train Epoch: 3 [6400/60000 (11%)]\tLoss: 0.188952\n",
      "Train Epoch: 3 [12800/60000 (21%)]\tLoss: 0.444336\n",
      "Train Epoch: 3 [19200/60000 (32%)]\tLoss: 0.138110\n",
      "Train Epoch: 3 [25600/60000 (43%)]\tLoss: 0.289707\n",
      "Train Epoch: 3 [32000/60000 (53%)]\tLoss: 0.225037\n",
      "Train Epoch: 3 [38400/60000 (64%)]\tLoss: 0.123919\n",
      "Train Epoch: 3 [44800/60000 (75%)]\tLoss: 0.109843\n",
      "Train Epoch: 3 [51200/60000 (85%)]\tLoss: 0.223671\n",
      "Train Epoch: 3 [57600/60000 (96%)]\tLoss: 0.123694\n",
      "\n",
      "Train set: Average loss: 0.2454, Accuracy: 56510/60000 (94.2%)\n",
      "\n",
      "\n",
      "Test set: Average loss: 0.1916, Accuracy: 9434/10000 (94.340%)\n",
      "\n",
      "Train Epoch: 4 [0/60000 (0%)]\tLoss: 0.154215\n",
      "Train Epoch: 4 [6400/60000 (11%)]\tLoss: 0.114087\n",
      "Train Epoch: 4 [12800/60000 (21%)]\tLoss: 0.113457\n",
      "Train Epoch: 4 [19200/60000 (32%)]\tLoss: 0.108158\n",
      "Train Epoch: 4 [25600/60000 (43%)]\tLoss: 0.340480\n",
      "Train Epoch: 4 [32000/60000 (53%)]\tLoss: 0.193022\n",
      "Train Epoch: 4 [38400/60000 (64%)]\tLoss: 0.078403\n",
      "Train Epoch: 4 [44800/60000 (75%)]\tLoss: 0.085873\n",
      "Train Epoch: 4 [51200/60000 (85%)]\tLoss: 0.052304\n",
      "Train Epoch: 4 [57600/60000 (96%)]\tLoss: 0.202208\n",
      "\n",
      "Train set: Average loss: 0.1707, Accuracy: 56825/60000 (94.7%)\n",
      "\n",
      "\n",
      "Test set: Average loss: 0.1790, Accuracy: 9472/10000 (94.720%)\n",
      "\n",
      "Train Epoch: 5 [0/60000 (0%)]\tLoss: 0.135446\n",
      "Train Epoch: 5 [6400/60000 (11%)]\tLoss: 0.046288\n",
      "Train Epoch: 5 [12800/60000 (21%)]\tLoss: 0.028059\n",
      "Train Epoch: 5 [19200/60000 (32%)]\tLoss: 0.249763\n",
      "Train Epoch: 5 [25600/60000 (43%)]\tLoss: 0.136303\n",
      "Train Epoch: 5 [32000/60000 (53%)]\tLoss: 0.145118\n",
      "Train Epoch: 5 [38400/60000 (64%)]\tLoss: 0.149680\n",
      "Train Epoch: 5 [44800/60000 (75%)]\tLoss: 0.136571\n",
      "Train Epoch: 5 [51200/60000 (85%)]\tLoss: 0.323920\n",
      "Train Epoch: 5 [57600/60000 (96%)]\tLoss: 0.163505\n",
      "\n",
      "Train set: Average loss: 0.0429, Accuracy: 57064/60000 (95.1%)\n",
      "\n",
      "\n",
      "Test set: Average loss: 0.1703, Accuracy: 9507/10000 (95.070%)\n",
      "\n",
      "Train Epoch: 6 [0/60000 (0%)]\tLoss: 0.201385\n",
      "Train Epoch: 6 [6400/60000 (11%)]\tLoss: 0.166712\n",
      "Train Epoch: 6 [12800/60000 (21%)]\tLoss: 0.165329\n",
      "Train Epoch: 6 [19200/60000 (32%)]\tLoss: 0.164385\n",
      "Train Epoch: 6 [25600/60000 (43%)]\tLoss: 0.311639\n",
      "Train Epoch: 6 [32000/60000 (53%)]\tLoss: 0.197289\n",
      "Train Epoch: 6 [38400/60000 (64%)]\tLoss: 0.108307\n",
      "Train Epoch: 6 [44800/60000 (75%)]\tLoss: 0.025660\n",
      "Train Epoch: 6 [51200/60000 (85%)]\tLoss: 0.226436\n",
      "Train Epoch: 6 [57600/60000 (96%)]\tLoss: 0.203886\n",
      "\n",
      "Train set: Average loss: 0.3360, Accuracy: 57278/60000 (95.5%)\n",
      "\n",
      "\n",
      "Test set: Average loss: 0.1699, Accuracy: 9504/10000 (95.040%)\n",
      "\n",
      "Train Epoch: 7 [0/60000 (0%)]\tLoss: 0.102694\n",
      "Train Epoch: 7 [6400/60000 (11%)]\tLoss: 0.229475\n",
      "Train Epoch: 7 [12800/60000 (21%)]\tLoss: 0.080375\n",
      "Train Epoch: 7 [19200/60000 (32%)]\tLoss: 0.233413\n",
      "Train Epoch: 7 [25600/60000 (43%)]\tLoss: 0.118820\n",
      "Train Epoch: 7 [32000/60000 (53%)]\tLoss: 0.018190\n",
      "Train Epoch: 7 [38400/60000 (64%)]\tLoss: 0.147303\n",
      "Train Epoch: 7 [44800/60000 (75%)]\tLoss: 0.171613\n",
      "Train Epoch: 7 [51200/60000 (85%)]\tLoss: 0.197126\n",
      "Train Epoch: 7 [57600/60000 (96%)]\tLoss: 0.097877\n",
      "\n",
      "Train set: Average loss: 0.1712, Accuracy: 57469/60000 (95.8%)\n",
      "\n",
      "\n",
      "Test set: Average loss: 0.1557, Accuracy: 9534/10000 (95.340%)\n",
      "\n",
      "Train Epoch: 8 [0/60000 (0%)]\tLoss: 0.087720\n",
      "Train Epoch: 8 [6400/60000 (11%)]\tLoss: 0.132578\n",
      "Train Epoch: 8 [12800/60000 (21%)]\tLoss: 0.164526\n",
      "Train Epoch: 8 [19200/60000 (32%)]\tLoss: 0.056242\n",
      "Train Epoch: 8 [25600/60000 (43%)]\tLoss: 0.078747\n",
      "Train Epoch: 8 [32000/60000 (53%)]\tLoss: 0.127842\n",
      "Train Epoch: 8 [38400/60000 (64%)]\tLoss: 0.075919\n",
      "Train Epoch: 8 [44800/60000 (75%)]\tLoss: 0.194204\n",
      "Train Epoch: 8 [51200/60000 (85%)]\tLoss: 0.132509\n",
      "Train Epoch: 8 [57600/60000 (96%)]\tLoss: 0.183094\n",
      "\n",
      "Train set: Average loss: 0.0996, Accuracy: 57528/60000 (95.9%)\n",
      "\n",
      "\n",
      "Test set: Average loss: 0.1556, Accuracy: 9558/10000 (95.580%)\n",
      "\n",
      "Train Epoch: 9 [0/60000 (0%)]\tLoss: 0.145349\n",
      "Train Epoch: 9 [6400/60000 (11%)]\tLoss: 0.038277\n",
      "Train Epoch: 9 [12800/60000 (21%)]\tLoss: 0.112050\n",
      "Train Epoch: 9 [19200/60000 (32%)]\tLoss: 0.051908\n",
      "Train Epoch: 9 [25600/60000 (43%)]\tLoss: 0.233244\n",
      "Train Epoch: 9 [32000/60000 (53%)]\tLoss: 0.209322\n",
      "Train Epoch: 9 [38400/60000 (64%)]\tLoss: 0.051406\n",
      "Train Epoch: 9 [44800/60000 (75%)]\tLoss: 0.065679\n",
      "Train Epoch: 9 [51200/60000 (85%)]\tLoss: 0.207905\n",
      "Train Epoch: 9 [57600/60000 (96%)]\tLoss: 0.063043\n",
      "\n",
      "Train set: Average loss: 0.1123, Accuracy: 57659/60000 (96.1%)\n",
      "\n",
      "\n",
      "Test set: Average loss: 0.1488, Accuracy: 9588/10000 (95.880%)\n",
      "\n",
      "Train Epoch: 10 [0/60000 (0%)]\tLoss: 0.159603\n",
      "Train Epoch: 10 [6400/60000 (11%)]\tLoss: 0.063820\n",
      "Train Epoch: 10 [12800/60000 (21%)]\tLoss: 0.124450\n",
      "Train Epoch: 10 [19200/60000 (32%)]\tLoss: 0.156314\n",
      "Train Epoch: 10 [25600/60000 (43%)]\tLoss: 0.209987\n",
      "Train Epoch: 10 [32000/60000 (53%)]\tLoss: 0.151219\n",
      "Train Epoch: 10 [38400/60000 (64%)]\tLoss: 0.097426\n",
      "Train Epoch: 10 [44800/60000 (75%)]\tLoss: 0.077376\n",
      "Train Epoch: 10 [51200/60000 (85%)]\tLoss: 0.076982\n",
      "Train Epoch: 10 [57600/60000 (96%)]\tLoss: 0.112706\n",
      "\n",
      "Train set: Average loss: 0.2196, Accuracy: 57772/60000 (96.3%)\n",
      "\n",
      "\n",
      "Test set: Average loss: 0.1440, Accuracy: 9585/10000 (95.850%)\n",
      "\n",
      "Train Epoch: 11 [0/60000 (0%)]\tLoss: 0.015861\n",
      "Train Epoch: 11 [6400/60000 (11%)]\tLoss: 0.062729\n",
      "Train Epoch: 11 [12800/60000 (21%)]\tLoss: 0.299379\n",
      "Train Epoch: 11 [19200/60000 (32%)]\tLoss: 0.089520\n",
      "Train Epoch: 11 [25600/60000 (43%)]\tLoss: 0.038151\n",
      "Train Epoch: 11 [32000/60000 (53%)]\tLoss: 0.268834\n",
      "Train Epoch: 11 [38400/60000 (64%)]\tLoss: 0.047761\n",
      "Train Epoch: 11 [44800/60000 (75%)]\tLoss: 0.084226\n",
      "Train Epoch: 11 [51200/60000 (85%)]\tLoss: 0.040167\n",
      "Train Epoch: 11 [57600/60000 (96%)]\tLoss: 0.055939\n",
      "\n",
      "Train set: Average loss: 0.1083, Accuracy: 57876/60000 (96.5%)\n",
      "\n",
      "\n",
      "Test set: Average loss: 0.1479, Accuracy: 9586/10000 (95.860%)\n",
      "\n",
      "Train Epoch: 12 [0/60000 (0%)]\tLoss: 0.095320\n",
      "Train Epoch: 12 [6400/60000 (11%)]\tLoss: 0.058899\n",
      "Train Epoch: 12 [12800/60000 (21%)]\tLoss: 0.054768\n",
      "Train Epoch: 12 [19200/60000 (32%)]\tLoss: 0.051593\n",
      "Train Epoch: 12 [25600/60000 (43%)]\tLoss: 0.201618\n",
      "Train Epoch: 12 [32000/60000 (53%)]\tLoss: 0.090645\n",
      "Train Epoch: 12 [38400/60000 (64%)]\tLoss: 0.168569\n",
      "Train Epoch: 12 [44800/60000 (75%)]\tLoss: 0.090972\n",
      "Train Epoch: 12 [51200/60000 (85%)]\tLoss: 0.055308\n",
      "Train Epoch: 12 [57600/60000 (96%)]\tLoss: 0.080638\n",
      "\n",
      "Train set: Average loss: 0.0649, Accuracy: 57911/60000 (96.5%)\n",
      "\n",
      "\n",
      "Test set: Average loss: 0.1425, Accuracy: 9617/10000 (96.170%)\n",
      "\n",
      "Train Epoch: 13 [0/60000 (0%)]\tLoss: 0.258221\n",
      "Train Epoch: 13 [6400/60000 (11%)]\tLoss: 0.206739\n",
      "Train Epoch: 13 [12800/60000 (21%)]\tLoss: 0.060090\n",
      "Train Epoch: 13 [19200/60000 (32%)]\tLoss: 0.103067\n",
      "Train Epoch: 13 [25600/60000 (43%)]\tLoss: 0.078284\n",
      "Train Epoch: 13 [32000/60000 (53%)]\tLoss: 0.190888\n",
      "Train Epoch: 13 [38400/60000 (64%)]\tLoss: 0.132234\n",
      "Train Epoch: 13 [44800/60000 (75%)]\tLoss: 0.034030\n",
      "Train Epoch: 13 [51200/60000 (85%)]\tLoss: 0.093812\n",
      "Train Epoch: 13 [57600/60000 (96%)]\tLoss: 0.085905\n",
      "\n",
      "Train set: Average loss: 0.0608, Accuracy: 57990/60000 (96.7%)\n",
      "\n",
      "\n",
      "Test set: Average loss: 0.1341, Accuracy: 9621/10000 (96.210%)\n",
      "\n",
      "Train Epoch: 14 [0/60000 (0%)]\tLoss: 0.113859\n",
      "Train Epoch: 14 [6400/60000 (11%)]\tLoss: 0.063409\n",
      "Train Epoch: 14 [12800/60000 (21%)]\tLoss: 0.130970\n",
      "Train Epoch: 14 [19200/60000 (32%)]\tLoss: 0.048190\n",
      "Train Epoch: 14 [25600/60000 (43%)]\tLoss: 0.050894\n",
      "Train Epoch: 14 [32000/60000 (53%)]\tLoss: 0.138198\n",
      "Train Epoch: 14 [38400/60000 (64%)]\tLoss: 0.119295\n",
      "Train Epoch: 14 [44800/60000 (75%)]\tLoss: 0.095759\n",
      "Train Epoch: 14 [51200/60000 (85%)]\tLoss: 0.038938\n",
      "Train Epoch: 14 [57600/60000 (96%)]\tLoss: 0.030166\n",
      "\n",
      "Train set: Average loss: 0.3230, Accuracy: 58055/60000 (96.8%)\n",
      "\n",
      "\n",
      "Test set: Average loss: 0.1547, Accuracy: 9568/10000 (95.680%)\n",
      "\n",
      "Train Epoch: 15 [0/60000 (0%)]\tLoss: 0.278495\n",
      "Train Epoch: 15 [6400/60000 (11%)]\tLoss: 0.098731\n",
      "Train Epoch: 15 [12800/60000 (21%)]\tLoss: 0.013230\n",
      "Train Epoch: 15 [19200/60000 (32%)]\tLoss: 0.150381\n",
      "Train Epoch: 15 [25600/60000 (43%)]\tLoss: 0.165684\n",
      "Train Epoch: 15 [32000/60000 (53%)]\tLoss: 0.234035\n",
      "Train Epoch: 15 [38400/60000 (64%)]\tLoss: 0.082700\n",
      "Train Epoch: 15 [44800/60000 (75%)]\tLoss: 0.032616\n",
      "Train Epoch: 15 [51200/60000 (85%)]\tLoss: 0.123129\n",
      "Train Epoch: 15 [57600/60000 (96%)]\tLoss: 0.063714\n",
      "\n",
      "Train set: Average loss: 0.0379, Accuracy: 58023/60000 (96.7%)\n",
      "\n",
      "\n",
      "Test set: Average loss: 0.1411, Accuracy: 9613/10000 (96.130%)\n",
      "\n",
      "Training is finished.\n"
     ]
    }
   ],
   "source": [
    "epochs = 15\n",
    "for epoch in range(1, epochs + 1):\n",
    "    train(mlp, dl_train, optimizer, epoch, log_interval=100)\n",
    "    test(mlp, dl_test)\n",
    "\n",
    "print ('Training is finished.')"
   ]
  },
  {
   "cell_type": "markdown",
   "metadata": {},
   "source": [
    "After training, you should see test accuracies of > **94%** - By they way, here we report test accuracy, the last exercises reported test error. Accuracy is simply (1 - error). Both metrics are commonly reported, there is no clear preference in literature for one or the other."
   ]
  },
  {
   "cell_type": "markdown",
   "metadata": {},
   "source": [
    "Now, can you do some parameter tuning to boost the test accuracy to > **97%**?"
   ]
  },
  {
   "cell_type": "code",
   "execution_count": 20,
   "metadata": {},
   "outputs": [
    {
     "name": "stdout",
     "output_type": "stream",
     "text": [
      "Train Epoch: 1 [0/60000 (0%)]\tLoss: 2.311191\n",
      "Train Epoch: 1 [6400/60000 (11%)]\tLoss: 1.130693\n",
      "Train Epoch: 1 [12800/60000 (21%)]\tLoss: 0.453733\n",
      "Train Epoch: 1 [19200/60000 (32%)]\tLoss: 0.869258\n",
      "Train Epoch: 1 [25600/60000 (43%)]\tLoss: 0.362122\n",
      "Train Epoch: 1 [32000/60000 (53%)]\tLoss: 0.325058\n",
      "Train Epoch: 1 [38400/60000 (64%)]\tLoss: 0.278667\n",
      "Train Epoch: 1 [44800/60000 (75%)]\tLoss: 0.396176\n",
      "Train Epoch: 1 [51200/60000 (85%)]\tLoss: 0.262382\n",
      "Train Epoch: 1 [57600/60000 (96%)]\tLoss: 0.333349\n",
      "\n",
      "Train set: Average loss: 0.2166, Accuracy: 48735/60000 (81.2%)\n",
      "\n",
      "\n",
      "Test set: Average loss: 0.2336, Accuracy: 9308/10000 (93.080%)\n",
      "\n",
      "Train Epoch: 2 [0/60000 (0%)]\tLoss: 0.072639\n",
      "Train Epoch: 2 [6400/60000 (11%)]\tLoss: 0.104234\n",
      "Train Epoch: 2 [12800/60000 (21%)]\tLoss: 0.265248\n",
      "Train Epoch: 2 [19200/60000 (32%)]\tLoss: 0.314339\n",
      "Train Epoch: 2 [25600/60000 (43%)]\tLoss: 0.147882\n",
      "Train Epoch: 2 [32000/60000 (53%)]\tLoss: 0.404202\n",
      "Train Epoch: 2 [38400/60000 (64%)]\tLoss: 0.105415\n",
      "Train Epoch: 2 [44800/60000 (75%)]\tLoss: 0.246028\n",
      "Train Epoch: 2 [51200/60000 (85%)]\tLoss: 0.087613\n",
      "Train Epoch: 2 [57600/60000 (96%)]\tLoss: 0.307062\n",
      "\n",
      "Train set: Average loss: 0.2976, Accuracy: 56505/60000 (94.2%)\n",
      "\n",
      "\n",
      "Test set: Average loss: 0.1863, Accuracy: 9453/10000 (94.530%)\n",
      "\n",
      "Train Epoch: 3 [0/60000 (0%)]\tLoss: 0.057860\n",
      "Train Epoch: 3 [6400/60000 (11%)]\tLoss: 0.264761\n",
      "Train Epoch: 3 [12800/60000 (21%)]\tLoss: 0.280575\n",
      "Train Epoch: 3 [19200/60000 (32%)]\tLoss: 0.090874\n",
      "Train Epoch: 3 [25600/60000 (43%)]\tLoss: 0.151619\n",
      "Train Epoch: 3 [32000/60000 (53%)]\tLoss: 0.150565\n",
      "Train Epoch: 3 [38400/60000 (64%)]\tLoss: 0.072908\n",
      "Train Epoch: 3 [44800/60000 (75%)]\tLoss: 0.286749\n",
      "Train Epoch: 3 [51200/60000 (85%)]\tLoss: 0.118632\n",
      "Train Epoch: 3 [57600/60000 (96%)]\tLoss: 0.047550\n",
      "\n",
      "Train set: Average loss: 0.0510, Accuracy: 57433/60000 (95.7%)\n",
      "\n",
      "\n",
      "Test set: Average loss: 0.1447, Accuracy: 9578/10000 (95.780%)\n",
      "\n",
      "Train Epoch: 4 [0/60000 (0%)]\tLoss: 0.191829\n",
      "Train Epoch: 4 [6400/60000 (11%)]\tLoss: 0.267317\n",
      "Train Epoch: 4 [12800/60000 (21%)]\tLoss: 0.013976\n",
      "Train Epoch: 4 [19200/60000 (32%)]\tLoss: 0.105267\n",
      "Train Epoch: 4 [25600/60000 (43%)]\tLoss: 0.115462\n",
      "Train Epoch: 4 [32000/60000 (53%)]\tLoss: 0.069475\n",
      "Train Epoch: 4 [38400/60000 (64%)]\tLoss: 0.182581\n",
      "Train Epoch: 4 [44800/60000 (75%)]\tLoss: 0.046828\n",
      "Train Epoch: 4 [51200/60000 (85%)]\tLoss: 0.145169\n",
      "Train Epoch: 4 [57600/60000 (96%)]\tLoss: 0.105936\n",
      "\n",
      "Train set: Average loss: 0.0450, Accuracy: 57975/60000 (96.6%)\n",
      "\n",
      "\n",
      "Test set: Average loss: 0.1288, Accuracy: 9627/10000 (96.270%)\n",
      "\n",
      "Train Epoch: 5 [0/60000 (0%)]\tLoss: 0.069754\n",
      "Train Epoch: 5 [6400/60000 (11%)]\tLoss: 0.079295\n",
      "Train Epoch: 5 [12800/60000 (21%)]\tLoss: 0.186884\n",
      "Train Epoch: 5 [19200/60000 (32%)]\tLoss: 0.104312\n",
      "Train Epoch: 5 [25600/60000 (43%)]\tLoss: 0.161893\n",
      "Train Epoch: 5 [32000/60000 (53%)]\tLoss: 0.139302\n",
      "Train Epoch: 5 [38400/60000 (64%)]\tLoss: 0.233034\n",
      "Train Epoch: 5 [44800/60000 (75%)]\tLoss: 0.057627\n",
      "Train Epoch: 5 [51200/60000 (85%)]\tLoss: 0.011008\n",
      "Train Epoch: 5 [57600/60000 (96%)]\tLoss: 0.095414\n",
      "\n",
      "Train set: Average loss: 0.0704, Accuracy: 58243/60000 (97.1%)\n",
      "\n",
      "\n",
      "Test set: Average loss: 0.1198, Accuracy: 9676/10000 (96.760%)\n",
      "\n",
      "Train Epoch: 6 [0/60000 (0%)]\tLoss: 0.029757\n",
      "Train Epoch: 6 [6400/60000 (11%)]\tLoss: 0.116692\n",
      "Train Epoch: 6 [12800/60000 (21%)]\tLoss: 0.142917\n",
      "Train Epoch: 6 [19200/60000 (32%)]\tLoss: 0.075251\n",
      "Train Epoch: 6 [25600/60000 (43%)]\tLoss: 0.055319\n",
      "Train Epoch: 6 [32000/60000 (53%)]\tLoss: 0.025930\n",
      "Train Epoch: 6 [38400/60000 (64%)]\tLoss: 0.247738\n",
      "Train Epoch: 6 [44800/60000 (75%)]\tLoss: 0.014825\n",
      "Train Epoch: 6 [51200/60000 (85%)]\tLoss: 0.035889\n",
      "Train Epoch: 6 [57600/60000 (96%)]\tLoss: 0.072208\n",
      "\n",
      "Train set: Average loss: 0.1086, Accuracy: 58520/60000 (97.5%)\n",
      "\n",
      "\n",
      "Test set: Average loss: 0.1200, Accuracy: 9679/10000 (96.790%)\n",
      "\n",
      "Train Epoch: 7 [0/60000 (0%)]\tLoss: 0.049329\n",
      "Train Epoch: 7 [6400/60000 (11%)]\tLoss: 0.100725\n",
      "Train Epoch: 7 [12800/60000 (21%)]\tLoss: 0.019897\n",
      "Train Epoch: 7 [19200/60000 (32%)]\tLoss: 0.077248\n",
      "Train Epoch: 7 [25600/60000 (43%)]\tLoss: 0.076879\n",
      "Train Epoch: 7 [32000/60000 (53%)]\tLoss: 0.054458\n",
      "Train Epoch: 7 [38400/60000 (64%)]\tLoss: 0.092855\n",
      "Train Epoch: 7 [44800/60000 (75%)]\tLoss: 0.169502\n",
      "Train Epoch: 7 [51200/60000 (85%)]\tLoss: 0.196468\n",
      "Train Epoch: 7 [57600/60000 (96%)]\tLoss: 0.019542\n",
      "\n",
      "Train set: Average loss: 0.1439, Accuracy: 58667/60000 (97.8%)\n",
      "\n",
      "\n",
      "Test set: Average loss: 0.1155, Accuracy: 9702/10000 (97.020%)\n",
      "\n",
      "Train Epoch: 8 [0/60000 (0%)]\tLoss: 0.003296\n",
      "Train Epoch: 8 [6400/60000 (11%)]\tLoss: 0.102811\n",
      "Train Epoch: 8 [12800/60000 (21%)]\tLoss: 0.099525\n",
      "Train Epoch: 8 [19200/60000 (32%)]\tLoss: 0.019495\n",
      "Train Epoch: 8 [25600/60000 (43%)]\tLoss: 0.068640\n",
      "Train Epoch: 8 [32000/60000 (53%)]\tLoss: 0.118907\n",
      "Train Epoch: 8 [38400/60000 (64%)]\tLoss: 0.325575\n",
      "Train Epoch: 8 [44800/60000 (75%)]\tLoss: 0.009014\n",
      "Train Epoch: 8 [51200/60000 (85%)]\tLoss: 0.008734\n",
      "Train Epoch: 8 [57600/60000 (96%)]\tLoss: 0.043464\n",
      "\n",
      "Train set: Average loss: 0.1472, Accuracy: 58771/60000 (98.0%)\n",
      "\n",
      "\n",
      "Test set: Average loss: 0.1237, Accuracy: 9676/10000 (96.760%)\n",
      "\n",
      "Train Epoch: 9 [0/60000 (0%)]\tLoss: 0.019439\n",
      "Train Epoch: 9 [6400/60000 (11%)]\tLoss: 0.100310\n",
      "Train Epoch: 9 [12800/60000 (21%)]\tLoss: 0.014935\n",
      "Train Epoch: 9 [19200/60000 (32%)]\tLoss: 0.031373\n",
      "Train Epoch: 9 [25600/60000 (43%)]\tLoss: 0.040257\n",
      "Train Epoch: 9 [32000/60000 (53%)]\tLoss: 0.134551\n",
      "Train Epoch: 9 [38400/60000 (64%)]\tLoss: 0.037120\n",
      "Train Epoch: 9 [44800/60000 (75%)]\tLoss: 0.163717\n",
      "Train Epoch: 9 [51200/60000 (85%)]\tLoss: 0.134343\n",
      "Train Epoch: 9 [57600/60000 (96%)]\tLoss: 0.039461\n",
      "\n",
      "Train set: Average loss: 0.0214, Accuracy: 58897/60000 (98.2%)\n",
      "\n",
      "\n",
      "Test set: Average loss: 0.1206, Accuracy: 9704/10000 (97.040%)\n",
      "\n",
      "Train Epoch: 10 [0/60000 (0%)]\tLoss: 0.007473\n",
      "Train Epoch: 10 [6400/60000 (11%)]\tLoss: 0.025500\n",
      "Train Epoch: 10 [12800/60000 (21%)]\tLoss: 0.040827\n",
      "Train Epoch: 10 [19200/60000 (32%)]\tLoss: 0.015827\n",
      "Train Epoch: 10 [25600/60000 (43%)]\tLoss: 0.093728\n",
      "Train Epoch: 10 [32000/60000 (53%)]\tLoss: 0.012893\n",
      "Train Epoch: 10 [38400/60000 (64%)]\tLoss: 0.029714\n",
      "Train Epoch: 10 [44800/60000 (75%)]\tLoss: 0.055364\n",
      "Train Epoch: 10 [51200/60000 (85%)]\tLoss: 0.042537\n",
      "Train Epoch: 10 [57600/60000 (96%)]\tLoss: 0.044769\n",
      "\n",
      "Train set: Average loss: 0.0051, Accuracy: 58995/60000 (98.3%)\n",
      "\n",
      "\n",
      "Test set: Average loss: 0.1083, Accuracy: 9734/10000 (97.340%)\n",
      "\n",
      "Train Epoch: 11 [0/60000 (0%)]\tLoss: 0.055295\n",
      "Train Epoch: 11 [6400/60000 (11%)]\tLoss: 0.035663\n",
      "Train Epoch: 11 [12800/60000 (21%)]\tLoss: 0.006492\n",
      "Train Epoch: 11 [19200/60000 (32%)]\tLoss: 0.070406\n",
      "Train Epoch: 11 [25600/60000 (43%)]\tLoss: 0.128154\n",
      "Train Epoch: 11 [32000/60000 (53%)]\tLoss: 0.014507\n",
      "Train Epoch: 11 [38400/60000 (64%)]\tLoss: 0.041111\n",
      "Train Epoch: 11 [44800/60000 (75%)]\tLoss: 0.092283\n",
      "Train Epoch: 11 [51200/60000 (85%)]\tLoss: 0.004963\n",
      "Train Epoch: 11 [57600/60000 (96%)]\tLoss: 0.044339\n",
      "\n",
      "Train set: Average loss: 0.2523, Accuracy: 59052/60000 (98.4%)\n",
      "\n",
      "\n",
      "Test set: Average loss: 0.1203, Accuracy: 9695/10000 (96.950%)\n",
      "\n",
      "Train Epoch: 12 [0/60000 (0%)]\tLoss: 0.062803\n",
      "Train Epoch: 12 [6400/60000 (11%)]\tLoss: 0.069334\n",
      "Train Epoch: 12 [12800/60000 (21%)]\tLoss: 0.053459\n",
      "Train Epoch: 12 [19200/60000 (32%)]\tLoss: 0.088546\n",
      "Train Epoch: 12 [25600/60000 (43%)]\tLoss: 0.060028\n",
      "Train Epoch: 12 [32000/60000 (53%)]\tLoss: 0.004929\n",
      "Train Epoch: 12 [38400/60000 (64%)]\tLoss: 0.029145\n",
      "Train Epoch: 12 [44800/60000 (75%)]\tLoss: 0.030245\n",
      "Train Epoch: 12 [51200/60000 (85%)]\tLoss: 0.095448\n",
      "Train Epoch: 12 [57600/60000 (96%)]\tLoss: 0.044799\n",
      "\n",
      "Train set: Average loss: 0.0026, Accuracy: 59176/60000 (98.6%)\n",
      "\n",
      "\n",
      "Test set: Average loss: 0.1264, Accuracy: 9700/10000 (97.000%)\n",
      "\n",
      "Train Epoch: 13 [0/60000 (0%)]\tLoss: 0.023976\n",
      "Train Epoch: 13 [6400/60000 (11%)]\tLoss: 0.096930\n",
      "Train Epoch: 13 [12800/60000 (21%)]\tLoss: 0.047235\n",
      "Train Epoch: 13 [19200/60000 (32%)]\tLoss: 0.002117\n",
      "Train Epoch: 13 [25600/60000 (43%)]\tLoss: 0.088183\n",
      "Train Epoch: 13 [32000/60000 (53%)]\tLoss: 0.028938\n",
      "Train Epoch: 13 [38400/60000 (64%)]\tLoss: 0.034738\n",
      "Train Epoch: 13 [44800/60000 (75%)]\tLoss: 0.004878\n",
      "Train Epoch: 13 [51200/60000 (85%)]\tLoss: 0.070636\n",
      "Train Epoch: 13 [57600/60000 (96%)]\tLoss: 0.073624\n",
      "\n",
      "Train set: Average loss: 0.1839, Accuracy: 59235/60000 (98.7%)\n",
      "\n",
      "\n",
      "Test set: Average loss: 0.1170, Accuracy: 9699/10000 (96.990%)\n",
      "\n",
      "Train Epoch: 14 [0/60000 (0%)]\tLoss: 0.068345\n",
      "Train Epoch: 14 [6400/60000 (11%)]\tLoss: 0.045985\n",
      "Train Epoch: 14 [12800/60000 (21%)]\tLoss: 0.020189\n",
      "Train Epoch: 14 [19200/60000 (32%)]\tLoss: 0.003250\n",
      "Train Epoch: 14 [25600/60000 (43%)]\tLoss: 0.009409\n",
      "Train Epoch: 14 [32000/60000 (53%)]\tLoss: 0.021140\n",
      "Train Epoch: 14 [38400/60000 (64%)]\tLoss: 0.028004\n",
      "Train Epoch: 14 [44800/60000 (75%)]\tLoss: 0.042156\n",
      "Train Epoch: 14 [51200/60000 (85%)]\tLoss: 0.040161\n",
      "Train Epoch: 14 [57600/60000 (96%)]\tLoss: 0.076227\n",
      "\n",
      "Train set: Average loss: 0.1376, Accuracy: 59257/60000 (98.8%)\n",
      "\n",
      "\n",
      "Test set: Average loss: 0.1088, Accuracy: 9738/10000 (97.380%)\n",
      "\n",
      "Train Epoch: 15 [0/60000 (0%)]\tLoss: 0.009484\n",
      "Train Epoch: 15 [6400/60000 (11%)]\tLoss: 0.038025\n",
      "Train Epoch: 15 [12800/60000 (21%)]\tLoss: 0.018312\n",
      "Train Epoch: 15 [19200/60000 (32%)]\tLoss: 0.144471\n",
      "Train Epoch: 15 [25600/60000 (43%)]\tLoss: 0.009711\n",
      "Train Epoch: 15 [32000/60000 (53%)]\tLoss: 0.118486\n",
      "Train Epoch: 15 [38400/60000 (64%)]\tLoss: 0.024248\n",
      "Train Epoch: 15 [44800/60000 (75%)]\tLoss: 0.015010\n",
      "Train Epoch: 15 [51200/60000 (85%)]\tLoss: 0.061204\n",
      "Train Epoch: 15 [57600/60000 (96%)]\tLoss: 0.001587\n",
      "\n",
      "Train set: Average loss: 0.0088, Accuracy: 59316/60000 (98.9%)\n",
      "\n",
      "\n",
      "Test set: Average loss: 0.1114, Accuracy: 9721/10000 (97.210%)\n",
      "\n",
      "Training is finished.\n"
     ]
    }
   ],
   "source": [
    "#########################################################################\n",
    "#TODO: modify the parameters below to see which setting that you can get to 97%\n",
    "#########################################################################\n",
    "nLayer = 8\n",
    "nHidden = 64\n",
    "act_fn = nn.ReLU()\n",
    "\n",
    "# reinitialize the mlp, so we can play with parameters right here\n",
    "mlp = MLP(nInput, nOutput, nLayer, nHidden, act_fn)\n",
    "optimizer = optim.Adam(mlp.parameters())\n",
    "\n",
    "epochs = 15\n",
    "for epoch in range(1, epochs + 1):\n",
    "    train(mlp, dl_train, optimizer, epoch, log_interval=100)\n",
    "    test(mlp, dl_test)\n",
    "\n",
    "print ('Training is finished.')"
   ]
  },
  {
   "cell_type": "markdown",
   "metadata": {},
   "source": [
    "Before you move on to the next exercise, you can further play with the other parameters (learning rate, epochs, a different optimizer, etc.) to get a feeling what can improve or hamper performance. "
   ]
  },
  {
   "cell_type": "markdown",
   "metadata": {},
   "source": [
    "## CNN\n",
    "Alright, we matched our prior performance. Let's surpass it! You will soon see the power of CNN by building a small one yourself. The structure should be as follows\n",
    "\n",
    "| CNN Architecture                             \t|\n",
    "|----------------------------------------------\t|\n",
    "| Conv: $C_{in}=1, C_{out}=32, K=3, S=1, P=0$  \t|\n",
    "| ReLU                                         \t|\n",
    "| Conv: $C_{in}=32, C_{out}=64, K=3, S=1, P=0$ \t|\n",
    "| ReLU                                         \t|\n",
    "| MaxPool2d: $K=2, S=2, P=0$                   \t|\n",
    "| Dropout: $p=0.25$                            \t|\n",
    "| Linear: $C_{in}=9216, C_{out}=128$           \t|\n",
    "| ReLU                                         \t|\n",
    "| Dropout: $p=0.5$                             \t|\n",
    "| Linear: $C_{in}=128, C_{out}=10$             \t|\n",
    "\n",
    "The layers you will need are: \n",
    "\n",
    "`nn.Conv2d,  nn.Linear,  nn.Dropout, nn.MaxPool2d, nn.Flatten`\n",
    "\n",
    "For layers without parameters you can alternatively use function in the forward pass:  \n",
    "\n",
    "`F.max_pool2d, torch.flatten`"
   ]
  },
  {
   "cell_type": "code",
   "execution_count": 21,
   "metadata": {},
   "outputs": [],
   "source": [
    "#########################################################################\n",
    "# TODO: Implement the __init__ and forward method of the CNN class. \n",
    "# Hint: do not forget to flatten the appropriate dimension after the convolutional blocks. \n",
    "# A linear layers expect input of the size (B, H) with batch size B and feature size H\n",
    "#########################################################################\n",
    "\n",
    "class CNN(nn.Module):\n",
    "    def __init__(self):\n",
    "        super(CNN, self).__init__()\n",
    "        \n",
    "        # Define the convolutional layers\n",
    "        self.conv1 = nn.Conv2d(1, 32, kernel_size=3, stride=1, padding=0)\n",
    "        self.conv2 = nn.Conv2d(32, 64, kernel_size=3, stride=1, padding=0)\n",
    "        \n",
    "        # Define the fully connected (linear) layers\n",
    "        self.fc1 = nn.Linear(9216, 128)\n",
    "        self.fc2 = nn.Linear(128, 10)\n",
    "        \n",
    "        # Define max-pooling and dropout layers\n",
    "        self.maxpool = nn.MaxPool2d(kernel_size=2, stride=2)\n",
    "        self.dropout1 = nn.Dropout(p=0.25)\n",
    "        self.dropout2 = nn.Dropout(p=0.5)\n",
    "\n",
    "    def forward(self, x):\n",
    "        # Apply the first convolutional layer and ReLU\n",
    "        x = self.conv1(x)\n",
    "        x = F.relu(x)\n",
    "        \n",
    "        # Apply the second convolutional layer and ReLU\n",
    "        x = self.conv2(x)\n",
    "        x = F.relu(x)\n",
    "        \n",
    "        # Apply max-pooling\n",
    "        x = self.maxpool(x)\n",
    "\n",
    "        # Apply the first dropout\n",
    "        x = self.dropout1(x)\n",
    "        \n",
    "        # Flatten the output before passing it to the fully connected layers\n",
    "        x = torch.flatten(x, 1)\n",
    "        \n",
    "        # Apply the first fully connected layer, ReLU, and dropout\n",
    "        x = self.fc1(x)\n",
    "        x = F.relu(x)\n",
    "        x = self.dropout2(x)\n",
    "        \n",
    "        # Apply the second fully connected layer (output layer)\n",
    "        x = self.fc2(x)\n",
    "        \n",
    "        return x\n"
   ]
  },
  {
   "cell_type": "code",
   "execution_count": 22,
   "metadata": {},
   "outputs": [
    {
     "data": {
      "text/plain": [
       "torch.Size([1, 10])"
      ]
     },
     "execution_count": 22,
     "metadata": {},
     "output_type": "execute_result"
    }
   ],
   "source": [
    "# Let's test if the forward pass works\n",
    "# this should print torch.Size([1, 10])\n",
    "t = torch.randn(1,1,28,28)\n",
    "cnn = CNN()\n",
    "cnn(t).shape"
   ]
  },
  {
   "cell_type": "markdown",
   "metadata": {},
   "source": [
    "Alright, let's train!"
   ]
  },
  {
   "cell_type": "code",
   "execution_count": 23,
   "metadata": {},
   "outputs": [],
   "source": [
    "optimizer = optim.Adam(cnn.parameters())"
   ]
  },
  {
   "cell_type": "code",
   "execution_count": 24,
   "metadata": {
    "scrolled": true
   },
   "outputs": [
    {
     "name": "stdout",
     "output_type": "stream",
     "text": [
      "Train Epoch: 1 [0/60000 (0%)]\tLoss: 2.322690\n",
      "Train Epoch: 1 [6400/60000 (11%)]\tLoss: 0.344037\n",
      "Train Epoch: 1 [12800/60000 (21%)]\tLoss: 0.197755\n",
      "Train Epoch: 1 [19200/60000 (32%)]\tLoss: 0.165377\n",
      "Train Epoch: 1 [25600/60000 (43%)]\tLoss: 0.167852\n",
      "Train Epoch: 1 [32000/60000 (53%)]\tLoss: 0.153638\n",
      "Train Epoch: 1 [38400/60000 (64%)]\tLoss: 0.052466\n",
      "Train Epoch: 1 [44800/60000 (75%)]\tLoss: 0.135672\n",
      "Train Epoch: 1 [51200/60000 (85%)]\tLoss: 0.281146\n",
      "Train Epoch: 1 [57600/60000 (96%)]\tLoss: 0.228917\n",
      "\n",
      "Train set: Average loss: 0.0237, Accuracy: 56413/60000 (94.0%)\n",
      "\n",
      "\n",
      "Test set: Average loss: 0.0509, Accuracy: 9841/10000 (98.410%)\n",
      "\n",
      "Train Epoch: 2 [0/60000 (0%)]\tLoss: 0.062000\n",
      "Train Epoch: 2 [6400/60000 (11%)]\tLoss: 0.225702\n",
      "Train Epoch: 2 [12800/60000 (21%)]\tLoss: 0.060769\n",
      "Train Epoch: 2 [19200/60000 (32%)]\tLoss: 0.094799\n",
      "Train Epoch: 2 [25600/60000 (43%)]\tLoss: 0.245006\n",
      "Train Epoch: 2 [32000/60000 (53%)]\tLoss: 0.027631\n",
      "Train Epoch: 2 [38400/60000 (64%)]\tLoss: 0.039291\n",
      "Train Epoch: 2 [44800/60000 (75%)]\tLoss: 0.123545\n",
      "Train Epoch: 2 [51200/60000 (85%)]\tLoss: 0.151245\n",
      "Train Epoch: 2 [57600/60000 (96%)]\tLoss: 0.151855\n",
      "\n",
      "Train set: Average loss: 0.0725, Accuracy: 58592/60000 (97.7%)\n",
      "\n",
      "\n",
      "Test set: Average loss: 0.0332, Accuracy: 9903/10000 (99.030%)\n",
      "\n",
      "Train Epoch: 3 [0/60000 (0%)]\tLoss: 0.040996\n",
      "Train Epoch: 3 [6400/60000 (11%)]\tLoss: 0.092908\n",
      "Train Epoch: 3 [12800/60000 (21%)]\tLoss: 0.021116\n",
      "Train Epoch: 3 [19200/60000 (32%)]\tLoss: 0.017506\n",
      "Train Epoch: 3 [25600/60000 (43%)]\tLoss: 0.047628\n",
      "Train Epoch: 3 [32000/60000 (53%)]\tLoss: 0.045170\n",
      "Train Epoch: 3 [38400/60000 (64%)]\tLoss: 0.039459\n",
      "Train Epoch: 3 [44800/60000 (75%)]\tLoss: 0.043651\n",
      "Train Epoch: 3 [51200/60000 (85%)]\tLoss: 0.043215\n",
      "Train Epoch: 3 [57600/60000 (96%)]\tLoss: 0.070157\n",
      "\n",
      "Train set: Average loss: 0.0028, Accuracy: 58899/60000 (98.2%)\n",
      "\n",
      "\n",
      "Test set: Average loss: 0.0350, Accuracy: 9890/10000 (98.900%)\n",
      "\n",
      "Train Epoch: 4 [0/60000 (0%)]\tLoss: 0.055700\n",
      "Train Epoch: 4 [6400/60000 (11%)]\tLoss: 0.011090\n",
      "Train Epoch: 4 [12800/60000 (21%)]\tLoss: 0.080402\n",
      "Train Epoch: 4 [19200/60000 (32%)]\tLoss: 0.061030\n",
      "Train Epoch: 4 [25600/60000 (43%)]\tLoss: 0.058801\n",
      "Train Epoch: 4 [32000/60000 (53%)]\tLoss: 0.138219\n",
      "Train Epoch: 4 [38400/60000 (64%)]\tLoss: 0.008775\n",
      "Train Epoch: 4 [44800/60000 (75%)]\tLoss: 0.112219\n",
      "Train Epoch: 4 [51200/60000 (85%)]\tLoss: 0.066011\n",
      "Train Epoch: 4 [57600/60000 (96%)]\tLoss: 0.155889\n",
      "\n",
      "Train set: Average loss: 0.0388, Accuracy: 59059/60000 (98.4%)\n",
      "\n",
      "\n",
      "Test set: Average loss: 0.0295, Accuracy: 9909/10000 (99.090%)\n",
      "\n",
      "Train Epoch: 5 [0/60000 (0%)]\tLoss: 0.095604\n",
      "Train Epoch: 5 [6400/60000 (11%)]\tLoss: 0.022235\n",
      "Train Epoch: 5 [12800/60000 (21%)]\tLoss: 0.043940\n",
      "Train Epoch: 5 [19200/60000 (32%)]\tLoss: 0.002519\n",
      "Train Epoch: 5 [25600/60000 (43%)]\tLoss: 0.005117\n",
      "Train Epoch: 5 [32000/60000 (53%)]\tLoss: 0.009443\n",
      "Train Epoch: 5 [38400/60000 (64%)]\tLoss: 0.011184\n",
      "Train Epoch: 5 [44800/60000 (75%)]\tLoss: 0.066048\n",
      "Train Epoch: 5 [51200/60000 (85%)]\tLoss: 0.021928\n",
      "Train Epoch: 5 [57600/60000 (96%)]\tLoss: 0.067372\n",
      "\n",
      "Train set: Average loss: 0.1309, Accuracy: 59210/60000 (98.7%)\n",
      "\n",
      "\n",
      "Test set: Average loss: 0.0362, Accuracy: 9907/10000 (99.070%)\n",
      "\n"
     ]
    }
   ],
   "source": [
    "epochs = 5\n",
    "for epoch in range(1, epochs + 1):\n",
    "    train(cnn, dl_train, optimizer, epoch, log_interval=100)\n",
    "    test(cnn, dl_test)"
   ]
  },
  {
   "cell_type": "markdown",
   "metadata": {},
   "source": [
    "This will probably take a bit longer to train, as a convolutional network is not very efficient on a CPU. The current settings should get you around **99%** accuracy. Nice! \n",
    "Again, you should try different hyperparameters and see how far you can push the performance."
   ]
  },
  {
   "cell_type": "markdown",
   "metadata": {},
   "source": [
    "### Inline Question\n",
    "\n",
    "If your model weight is randomly initalized, and no training is done as above. What accuracy do you think the model will get for a 10-class classification task in theory?\n",
    "\n",
    "**Your answer**: It should be around 10%, since it is effectively the same as randomly guessing.\n"
   ]
  },
  {
   "cell_type": "markdown",
   "metadata": {},
   "source": [
    "## Training on CIFAR10\n",
    "\n",
    "Now we are going to move to something more challenging - CIFAR10. We can reuse most of the code above. Thankfully, CIFAR is also a popular dataset, so we can again make use of a PyTorch convience function."
   ]
  },
  {
   "cell_type": "code",
   "execution_count": 25,
   "metadata": {},
   "outputs": [
    {
     "name": "stdout",
     "output_type": "stream",
     "text": [
      "Files already downloaded and verified\n"
     ]
    }
   ],
   "source": [
    "ds_train = datasets.CIFAR10(root='./data', train=True, download=True)"
   ]
  },
  {
   "cell_type": "markdown",
   "metadata": {},
   "source": [
    "This dataset is not normalized yet, so we need to calculate the normalization constants."
   ]
  },
  {
   "cell_type": "code",
   "execution_count": 26,
   "metadata": {},
   "outputs": [],
   "source": [
    "ims_train = torch.tensor(ds_train.data)\n",
    "ims_train = ims_train.float() / 255."
   ]
  },
  {
   "cell_type": "code",
   "execution_count": 27,
   "metadata": {},
   "outputs": [
    {
     "data": {
      "text/plain": [
       "torch.Size([50000, 32, 32, 3])"
      ]
     },
     "execution_count": 27,
     "metadata": {},
     "output_type": "execute_result"
    }
   ],
   "source": [
    "ims_train.shape"
   ]
  },
  {
   "cell_type": "code",
   "execution_count": 28,
   "metadata": {},
   "outputs": [
    {
     "name": "stdout",
     "output_type": "stream",
     "text": [
      "Mean (mu) for each channel: tensor([0.4914, 0.4822, 0.4465])\n",
      "Standard Deviation (std) for each channel: tensor([0.2470, 0.2435, 0.2616])\n"
     ]
    }
   ],
   "source": [
    "#########################################################################\n",
    "# TODO: calculate the mean and std of CIFAR\n",
    "# hint: We want the mean and std of the channel dimension, these should\n",
    "# be 3 dimensional\n",
    "#########################################################################\n",
    "\n",
    "##### MY INITIAL APPROACH #####\n",
    "# # Initialize variables to accumulate the sum of pixel values and pixel value squared for each channel\n",
    "# sum_channel = [0.0, 0.0, 0.0]\n",
    "# sum_squared_channel = [0.0, 0.0, 0.0]\n",
    "# total_images = ims_train.size(0)\n",
    "\n",
    "# # Calculate the mean for each channel\n",
    "# for i in range(ims_train.size(0)):\n",
    "#     for channel in range(3):\n",
    "#         image_tensor = ims_train[i, :, :, channel]\n",
    "#         sum_channel[channel] += image_tensor.sum()\n",
    "\n",
    "# mu = [sum_channel[channel] / (total_images * 32 * 32) for channel in range(3)]\n",
    "\n",
    "# # Initialize variables to accumulate the sum of squared pixel values\n",
    "# # This will be used to calculate the standard deviation for each channel\n",
    "# for i in range(ims_train.size(0)):\n",
    "#     for channel in range(3):\n",
    "#         image_tensor = ims_train[i, :, :, channel]\n",
    "#         sum_squared_channel[channel] += (image_tensor - mu[channel]).pow(2).sum()\n",
    "\n",
    "# # Calculate the standard deviation for each channel\n",
    "# std = [(sum_squared_channel[channel] / (total_images * 32 * 32)).sqrt() for channel in range(3)]\n",
    "\n",
    "##### PYTORCH SHORTHAND #####\n",
    "mu = torch.mean(ims_train, dim=(0,1,2))\n",
    "std = ims_train.std((0,1,2))\n",
    "\n",
    "print(f\"Mean (mu) for each channel: {mu}\")\n",
    "print(f\"Standard Deviation (std) for each channel: {std}\")"
   ]
  },
  {
   "cell_type": "markdown",
   "metadata": {},
   "source": [
    "For CIFAR we want to make use of data augmentation to improve generalization. You will find all data augmentations data are included in torchvision here:\n",
    "\n",
    "https://pytorch.org/docs/stable/torchvision/transforms.html"
   ]
  },
  {
   "cell_type": "code",
   "execution_count": 29,
   "metadata": {},
   "outputs": [
    {
     "name": "stdout",
     "output_type": "stream",
     "text": [
      "Files already downloaded and verified\n",
      "Files already downloaded and verified\n"
     ]
    }
   ],
   "source": [
    "BATCH_SIZE = 128\n",
    "NUM_WORKERS = 4 # if you encounter some unexpected errors in data loading, try setting `NUM_WORKERS = 0`\n",
    "#########################################################################\n",
    "# TODO: Implement the proper transforms for the training and test dataloaders. \n",
    "# Then build train and test dataloaders with batch size 128 and 4 workers\n",
    "#\n",
    "# Train: \n",
    "# - Apply a random crop with size 32 on a padded version of the image with P=4\n",
    "# - Flip the image horizontally with a probability of 40 %\n",
    "# - Transform to a Tensor\n",
    "# - Normalize with the constants calculated above\n",
    "# Test: \n",
    "# - Transform to a Tensor\n",
    "# - Normalize with the constants calculated above\n",
    "#########################################################################\n",
    "transform_train = transforms.Compose([\n",
    "    transforms.RandomCrop(32, padding=4),  # Randomly crop a 32x32 portion of the image\n",
    "    transforms.RandomHorizontalFlip(p=0.4),  # Randomly flip the image horizontally with a 40% probability\n",
    "    transforms.ToTensor(),  # Convert to a PyTorch tensor\n",
    "    transforms.Normalize(mean=mu, std=std)  # Normalize using the calculated mean and standard deviation\n",
    "])\n",
    "\n",
    "transform_test = transforms.Compose([\n",
    "    transforms.ToTensor(),  # Convert to a PyTorch tensor\n",
    "    transforms.Normalize(mean=mu, std=std)  # Normalize using the calculated mean and standard deviation\n",
    "])\n",
    "\n",
    "ds_train = datasets.CIFAR10('./data', train=True, download=True, transform=transform_train)\n",
    "ds_test = datasets.CIFAR10('./data', train=False, download=True, transform=transform_test)\n",
    "\n",
    "# Create data loaders\n",
    "dl_train = DataLoader(ds_train, batch_size=BATCH_SIZE, shuffle=True, num_workers=NUM_WORKERS)\n",
    "dl_test = DataLoader(ds_test, batch_size=BATCH_SIZE, shuffle=False, num_workers=NUM_WORKERS)"
   ]
  },
  {
   "cell_type": "markdown",
   "metadata": {},
   "source": [
    "Setting up the  optimizer, this time we use SGD. The scheduler adapts the learning rate during traing (you can ignore it)"
   ]
  },
  {
   "cell_type": "code",
   "execution_count": 30,
   "metadata": {},
   "outputs": [],
   "source": [
    "cnn = CNN()\n",
    "optimizer = optim.SGD(cnn.parameters(), lr=0.1, momentum=0.9, weight_decay=5e-4)\n",
    "scheduler = torch.optim.lr_scheduler.CosineAnnealingLR(optimizer, T_max=200)"
   ]
  },
  {
   "cell_type": "code",
   "execution_count": 31,
   "metadata": {
    "scrolled": true
   },
   "outputs": [
    {
     "ename": "RuntimeError",
     "evalue": "Given groups=1, weight of size [32, 1, 3, 3], expected input[128, 3, 32, 32] to have 1 channels, but got 3 channels instead",
     "output_type": "error",
     "traceback": [
      "\u001b[1;31m---------------------------------------------------------------------------\u001b[0m",
      "\u001b[1;31mRuntimeError\u001b[0m                              Traceback (most recent call last)",
      "\u001b[1;32md:\\VSCode-Git-Repos\\CompVisLabs\\exercise4-dl4cv\\code\\image_classification.ipynb Cell 54\u001b[0m line \u001b[0;36m3\n\u001b[0;32m      <a href='vscode-notebook-cell:/d%3A/VSCode-Git-Repos/CompVisLabs/exercise4-dl4cv/code/image_classification.ipynb#Y104sZmlsZQ%3D%3D?line=0'>1</a>\u001b[0m epochs \u001b[39m=\u001b[39m \u001b[39m5\u001b[39m\n\u001b[0;32m      <a href='vscode-notebook-cell:/d%3A/VSCode-Git-Repos/CompVisLabs/exercise4-dl4cv/code/image_classification.ipynb#Y104sZmlsZQ%3D%3D?line=1'>2</a>\u001b[0m \u001b[39mfor\u001b[39;00m epoch \u001b[39min\u001b[39;00m \u001b[39mrange\u001b[39m(\u001b[39m1\u001b[39m, epochs \u001b[39m+\u001b[39m \u001b[39m1\u001b[39m):\n\u001b[1;32m----> <a href='vscode-notebook-cell:/d%3A/VSCode-Git-Repos/CompVisLabs/exercise4-dl4cv/code/image_classification.ipynb#Y104sZmlsZQ%3D%3D?line=2'>3</a>\u001b[0m     train(cnn, dl_train, optimizer, epoch, log_interval\u001b[39m=\u001b[39m\u001b[39m100\u001b[39m)\n\u001b[0;32m      <a href='vscode-notebook-cell:/d%3A/VSCode-Git-Repos/CompVisLabs/exercise4-dl4cv/code/image_classification.ipynb#Y104sZmlsZQ%3D%3D?line=3'>4</a>\u001b[0m     test(cnn, dl_test)    \n\u001b[0;32m      <a href='vscode-notebook-cell:/d%3A/VSCode-Git-Repos/CompVisLabs/exercise4-dl4cv/code/image_classification.ipynb#Y104sZmlsZQ%3D%3D?line=4'>5</a>\u001b[0m     scheduler\u001b[39m.\u001b[39mstep()\n",
      "\u001b[1;32md:\\VSCode-Git-Repos\\CompVisLabs\\exercise4-dl4cv\\code\\image_classification.ipynb Cell 54\u001b[0m line \u001b[0;36m2\n\u001b[0;32m     <a href='vscode-notebook-cell:/d%3A/VSCode-Git-Repos/CompVisLabs/exercise4-dl4cv/code/image_classification.ipynb#Y104sZmlsZQ%3D%3D?line=14'>15</a>\u001b[0m optimizer\u001b[39m.\u001b[39mzero_grad()         \n\u001b[0;32m     <a href='vscode-notebook-cell:/d%3A/VSCode-Git-Repos/CompVisLabs/exercise4-dl4cv/code/image_classification.ipynb#Y104sZmlsZQ%3D%3D?line=16'>17</a>\u001b[0m \u001b[39m##### implement this part #####\u001b[39;00m\n\u001b[0;32m     <a href='vscode-notebook-cell:/d%3A/VSCode-Git-Repos/CompVisLabs/exercise4-dl4cv/code/image_classification.ipynb#Y104sZmlsZQ%3D%3D?line=17'>18</a>\u001b[0m \n\u001b[0;32m     <a href='vscode-notebook-cell:/d%3A/VSCode-Git-Repos/CompVisLabs/exercise4-dl4cv/code/image_classification.ipynb#Y104sZmlsZQ%3D%3D?line=18'>19</a>\u001b[0m \u001b[39m# Forward pass\u001b[39;00m\n\u001b[1;32m---> <a href='vscode-notebook-cell:/d%3A/VSCode-Git-Repos/CompVisLabs/exercise4-dl4cv/code/image_classification.ipynb#Y104sZmlsZQ%3D%3D?line=19'>20</a>\u001b[0m output \u001b[39m=\u001b[39m model(data)\n\u001b[0;32m     <a href='vscode-notebook-cell:/d%3A/VSCode-Git-Repos/CompVisLabs/exercise4-dl4cv/code/image_classification.ipynb#Y104sZmlsZQ%3D%3D?line=21'>22</a>\u001b[0m \u001b[39m# Calculate the cross-entropy loss\u001b[39;00m\n\u001b[0;32m     <a href='vscode-notebook-cell:/d%3A/VSCode-Git-Repos/CompVisLabs/exercise4-dl4cv/code/image_classification.ipynb#Y104sZmlsZQ%3D%3D?line=22'>23</a>\u001b[0m loss \u001b[39m=\u001b[39m F\u001b[39m.\u001b[39mcross_entropy(output, target)\n",
      "File \u001b[1;32mc:\\Users\\omera\\.conda\\envs\\dl5cv\\Lib\\site-packages\\torch\\nn\\modules\\module.py:1518\u001b[0m, in \u001b[0;36mModule._wrapped_call_impl\u001b[1;34m(self, *args, **kwargs)\u001b[0m\n\u001b[0;32m   1516\u001b[0m     \u001b[39mreturn\u001b[39;00m \u001b[39mself\u001b[39m\u001b[39m.\u001b[39m_compiled_call_impl(\u001b[39m*\u001b[39margs, \u001b[39m*\u001b[39m\u001b[39m*\u001b[39mkwargs)  \u001b[39m# type: ignore[misc]\u001b[39;00m\n\u001b[0;32m   1517\u001b[0m \u001b[39melse\u001b[39;00m:\n\u001b[1;32m-> 1518\u001b[0m     \u001b[39mreturn\u001b[39;00m \u001b[39mself\u001b[39m\u001b[39m.\u001b[39m_call_impl(\u001b[39m*\u001b[39margs, \u001b[39m*\u001b[39m\u001b[39m*\u001b[39mkwargs)\n",
      "File \u001b[1;32mc:\\Users\\omera\\.conda\\envs\\dl5cv\\Lib\\site-packages\\torch\\nn\\modules\\module.py:1527\u001b[0m, in \u001b[0;36mModule._call_impl\u001b[1;34m(self, *args, **kwargs)\u001b[0m\n\u001b[0;32m   1522\u001b[0m \u001b[39m# If we don't have any hooks, we want to skip the rest of the logic in\u001b[39;00m\n\u001b[0;32m   1523\u001b[0m \u001b[39m# this function, and just call forward.\u001b[39;00m\n\u001b[0;32m   1524\u001b[0m \u001b[39mif\u001b[39;00m \u001b[39mnot\u001b[39;00m (\u001b[39mself\u001b[39m\u001b[39m.\u001b[39m_backward_hooks \u001b[39mor\u001b[39;00m \u001b[39mself\u001b[39m\u001b[39m.\u001b[39m_backward_pre_hooks \u001b[39mor\u001b[39;00m \u001b[39mself\u001b[39m\u001b[39m.\u001b[39m_forward_hooks \u001b[39mor\u001b[39;00m \u001b[39mself\u001b[39m\u001b[39m.\u001b[39m_forward_pre_hooks\n\u001b[0;32m   1525\u001b[0m         \u001b[39mor\u001b[39;00m _global_backward_pre_hooks \u001b[39mor\u001b[39;00m _global_backward_hooks\n\u001b[0;32m   1526\u001b[0m         \u001b[39mor\u001b[39;00m _global_forward_hooks \u001b[39mor\u001b[39;00m _global_forward_pre_hooks):\n\u001b[1;32m-> 1527\u001b[0m     \u001b[39mreturn\u001b[39;00m forward_call(\u001b[39m*\u001b[39margs, \u001b[39m*\u001b[39m\u001b[39m*\u001b[39mkwargs)\n\u001b[0;32m   1529\u001b[0m \u001b[39mtry\u001b[39;00m:\n\u001b[0;32m   1530\u001b[0m     result \u001b[39m=\u001b[39m \u001b[39mNone\u001b[39;00m\n",
      "\u001b[1;32md:\\VSCode-Git-Repos\\CompVisLabs\\exercise4-dl4cv\\code\\image_classification.ipynb Cell 54\u001b[0m line \u001b[0;36m2\n\u001b[0;32m     <a href='vscode-notebook-cell:/d%3A/VSCode-Git-Repos/CompVisLabs/exercise4-dl4cv/code/image_classification.ipynb#Y104sZmlsZQ%3D%3D?line=23'>24</a>\u001b[0m \u001b[39mdef\u001b[39;00m \u001b[39mforward\u001b[39m(\u001b[39mself\u001b[39m, x):\n\u001b[0;32m     <a href='vscode-notebook-cell:/d%3A/VSCode-Git-Repos/CompVisLabs/exercise4-dl4cv/code/image_classification.ipynb#Y104sZmlsZQ%3D%3D?line=24'>25</a>\u001b[0m     \u001b[39m# Apply the first convolutional layer and ReLU\u001b[39;00m\n\u001b[1;32m---> <a href='vscode-notebook-cell:/d%3A/VSCode-Git-Repos/CompVisLabs/exercise4-dl4cv/code/image_classification.ipynb#Y104sZmlsZQ%3D%3D?line=25'>26</a>\u001b[0m     x \u001b[39m=\u001b[39m \u001b[39mself\u001b[39m\u001b[39m.\u001b[39mconv1(x)\n\u001b[0;32m     <a href='vscode-notebook-cell:/d%3A/VSCode-Git-Repos/CompVisLabs/exercise4-dl4cv/code/image_classification.ipynb#Y104sZmlsZQ%3D%3D?line=26'>27</a>\u001b[0m     x \u001b[39m=\u001b[39m F\u001b[39m.\u001b[39mrelu(x)\n\u001b[0;32m     <a href='vscode-notebook-cell:/d%3A/VSCode-Git-Repos/CompVisLabs/exercise4-dl4cv/code/image_classification.ipynb#Y104sZmlsZQ%3D%3D?line=28'>29</a>\u001b[0m     \u001b[39m# Apply the second convolutional layer and ReLU\u001b[39;00m\n",
      "File \u001b[1;32mc:\\Users\\omera\\.conda\\envs\\dl5cv\\Lib\\site-packages\\torch\\nn\\modules\\module.py:1518\u001b[0m, in \u001b[0;36mModule._wrapped_call_impl\u001b[1;34m(self, *args, **kwargs)\u001b[0m\n\u001b[0;32m   1516\u001b[0m     \u001b[39mreturn\u001b[39;00m \u001b[39mself\u001b[39m\u001b[39m.\u001b[39m_compiled_call_impl(\u001b[39m*\u001b[39margs, \u001b[39m*\u001b[39m\u001b[39m*\u001b[39mkwargs)  \u001b[39m# type: ignore[misc]\u001b[39;00m\n\u001b[0;32m   1517\u001b[0m \u001b[39melse\u001b[39;00m:\n\u001b[1;32m-> 1518\u001b[0m     \u001b[39mreturn\u001b[39;00m \u001b[39mself\u001b[39m\u001b[39m.\u001b[39m_call_impl(\u001b[39m*\u001b[39margs, \u001b[39m*\u001b[39m\u001b[39m*\u001b[39mkwargs)\n",
      "File \u001b[1;32mc:\\Users\\omera\\.conda\\envs\\dl5cv\\Lib\\site-packages\\torch\\nn\\modules\\module.py:1527\u001b[0m, in \u001b[0;36mModule._call_impl\u001b[1;34m(self, *args, **kwargs)\u001b[0m\n\u001b[0;32m   1522\u001b[0m \u001b[39m# If we don't have any hooks, we want to skip the rest of the logic in\u001b[39;00m\n\u001b[0;32m   1523\u001b[0m \u001b[39m# this function, and just call forward.\u001b[39;00m\n\u001b[0;32m   1524\u001b[0m \u001b[39mif\u001b[39;00m \u001b[39mnot\u001b[39;00m (\u001b[39mself\u001b[39m\u001b[39m.\u001b[39m_backward_hooks \u001b[39mor\u001b[39;00m \u001b[39mself\u001b[39m\u001b[39m.\u001b[39m_backward_pre_hooks \u001b[39mor\u001b[39;00m \u001b[39mself\u001b[39m\u001b[39m.\u001b[39m_forward_hooks \u001b[39mor\u001b[39;00m \u001b[39mself\u001b[39m\u001b[39m.\u001b[39m_forward_pre_hooks\n\u001b[0;32m   1525\u001b[0m         \u001b[39mor\u001b[39;00m _global_backward_pre_hooks \u001b[39mor\u001b[39;00m _global_backward_hooks\n\u001b[0;32m   1526\u001b[0m         \u001b[39mor\u001b[39;00m _global_forward_hooks \u001b[39mor\u001b[39;00m _global_forward_pre_hooks):\n\u001b[1;32m-> 1527\u001b[0m     \u001b[39mreturn\u001b[39;00m forward_call(\u001b[39m*\u001b[39margs, \u001b[39m*\u001b[39m\u001b[39m*\u001b[39mkwargs)\n\u001b[0;32m   1529\u001b[0m \u001b[39mtry\u001b[39;00m:\n\u001b[0;32m   1530\u001b[0m     result \u001b[39m=\u001b[39m \u001b[39mNone\u001b[39;00m\n",
      "File \u001b[1;32mc:\\Users\\omera\\.conda\\envs\\dl5cv\\Lib\\site-packages\\torch\\nn\\modules\\conv.py:460\u001b[0m, in \u001b[0;36mConv2d.forward\u001b[1;34m(self, input)\u001b[0m\n\u001b[0;32m    459\u001b[0m \u001b[39mdef\u001b[39;00m \u001b[39mforward\u001b[39m(\u001b[39mself\u001b[39m, \u001b[39minput\u001b[39m: Tensor) \u001b[39m-\u001b[39m\u001b[39m>\u001b[39m Tensor:\n\u001b[1;32m--> 460\u001b[0m     \u001b[39mreturn\u001b[39;00m \u001b[39mself\u001b[39m\u001b[39m.\u001b[39m_conv_forward(\u001b[39minput\u001b[39m, \u001b[39mself\u001b[39m\u001b[39m.\u001b[39mweight, \u001b[39mself\u001b[39m\u001b[39m.\u001b[39mbias)\n",
      "File \u001b[1;32mc:\\Users\\omera\\.conda\\envs\\dl5cv\\Lib\\site-packages\\torch\\nn\\modules\\conv.py:456\u001b[0m, in \u001b[0;36mConv2d._conv_forward\u001b[1;34m(self, input, weight, bias)\u001b[0m\n\u001b[0;32m    452\u001b[0m \u001b[39mif\u001b[39;00m \u001b[39mself\u001b[39m\u001b[39m.\u001b[39mpadding_mode \u001b[39m!=\u001b[39m \u001b[39m'\u001b[39m\u001b[39mzeros\u001b[39m\u001b[39m'\u001b[39m:\n\u001b[0;32m    453\u001b[0m     \u001b[39mreturn\u001b[39;00m F\u001b[39m.\u001b[39mconv2d(F\u001b[39m.\u001b[39mpad(\u001b[39minput\u001b[39m, \u001b[39mself\u001b[39m\u001b[39m.\u001b[39m_reversed_padding_repeated_twice, mode\u001b[39m=\u001b[39m\u001b[39mself\u001b[39m\u001b[39m.\u001b[39mpadding_mode),\n\u001b[0;32m    454\u001b[0m                     weight, bias, \u001b[39mself\u001b[39m\u001b[39m.\u001b[39mstride,\n\u001b[0;32m    455\u001b[0m                     _pair(\u001b[39m0\u001b[39m), \u001b[39mself\u001b[39m\u001b[39m.\u001b[39mdilation, \u001b[39mself\u001b[39m\u001b[39m.\u001b[39mgroups)\n\u001b[1;32m--> 456\u001b[0m \u001b[39mreturn\u001b[39;00m F\u001b[39m.\u001b[39mconv2d(\u001b[39minput\u001b[39m, weight, bias, \u001b[39mself\u001b[39m\u001b[39m.\u001b[39mstride,\n\u001b[0;32m    457\u001b[0m                 \u001b[39mself\u001b[39m\u001b[39m.\u001b[39mpadding, \u001b[39mself\u001b[39m\u001b[39m.\u001b[39mdilation, \u001b[39mself\u001b[39m\u001b[39m.\u001b[39mgroups)\n",
      "\u001b[1;31mRuntimeError\u001b[0m: Given groups=1, weight of size [32, 1, 3, 3], expected input[128, 3, 32, 32] to have 1 channels, but got 3 channels instead"
     ]
    }
   ],
   "source": [
    "epochs = 5\n",
    "for epoch in range(1, epochs + 1):\n",
    "    train(cnn, dl_train, optimizer, epoch, log_interval=100)\n",
    "    test(cnn, dl_test)    \n",
    "    scheduler.step()"
   ]
  },
  {
   "cell_type": "markdown",
   "metadata": {},
   "source": [
    "This will not work. You should see the following error message\n",
    "\n",
    "```\n",
    "Given groups=1, weight of size [32, 1, 3, 3], expected input[128, 3, 32, 32] to have 1 channels, but got 3 channels instead\n",
    "```\n",
    "\n",
    "This error is telling us that something is not right in the definition of our model. Copy the CNN class from above and make changes, so the training works."
   ]
  },
  {
   "cell_type": "code",
   "execution_count": 32,
   "metadata": {},
   "outputs": [],
   "source": [
    "#########################################################################\n",
    "# TODO: Adapt the definition from the CNN class above to work on CIFAR.\n",
    "# You can copy and run the following prompt for evaluation:\n",
    "# CNN()(torch.randn(1,3,32,32)).shape\n",
    "# It should print 'torch.Size([1, 10])'\n",
    "# Hint: You need to change 2 things. \n",
    "#########################################################################\n",
    "\n",
    "class CNN_CIFAR(nn.Module):\n",
    "    def __init__(self):\n",
    "        super(CNN_CIFAR, self).__init__()\n",
    "        \n",
    "        # Define the convolutional layers\n",
    "        self.conv1 = nn.Conv2d(3, 32, kernel_size=3, stride=1, padding=0)\n",
    "        self.conv2 = nn.Conv2d(32, 64, kernel_size=3, stride=1, padding=0)\n",
    "        \n",
    "        # Define the fully connected (linear) layers\n",
    "        self.fc1 = nn.Linear(12544, 128) # This time 14 x 14 image at this point instead of 12 x 12\n",
    "        self.fc2 = nn.Linear(128, 10)\n",
    "        \n",
    "        # Define max-pooling and dropout layers\n",
    "        self.maxpool = nn.MaxPool2d(kernel_size=2, stride=2)\n",
    "        self.dropout1 = nn.Dropout(p=0.25)\n",
    "        self.dropout2 = nn.Dropout(p=0.5)\n",
    "\n",
    "    def forward(self, x):\n",
    "        # Apply the first convolutional layer and ReLU\n",
    "        x = self.conv1(x)\n",
    "        x = F.relu(x)\n",
    "        \n",
    "        # Apply the second convolutional layer and ReLU\n",
    "        x = self.conv2(x)\n",
    "        x = F.relu(x)\n",
    "        \n",
    "        # Apply max-pooling\n",
    "        x = self.maxpool(x)\n",
    "\n",
    "        # Apply the first dropout\n",
    "        x = self.dropout1(x)\n",
    "        \n",
    "        # Flatten the output before passing it to the fully connected layers\n",
    "        x = torch.flatten(x, 1)\n",
    "        \n",
    "        # Apply the first fully connected layer, ReLU, and dropout\n",
    "        x = self.fc1(x)\n",
    "        x = F.relu(x)\n",
    "        x = self.dropout2(x)\n",
    "        \n",
    "        # Apply the second fully connected layer (output layer)\n",
    "        x = self.fc2(x)\n",
    "        \n",
    "        return x"
   ]
  },
  {
   "cell_type": "code",
   "execution_count": 33,
   "metadata": {},
   "outputs": [
    {
     "data": {
      "text/plain": [
       "torch.Size([1, 10])"
      ]
     },
     "execution_count": 33,
     "metadata": {},
     "output_type": "execute_result"
    }
   ],
   "source": [
    "CNN_CIFAR()(torch.randn(1,3,32,32)).shape"
   ]
  },
  {
   "cell_type": "markdown",
   "metadata": {},
   "source": [
    "Let's try again"
   ]
  },
  {
   "cell_type": "code",
   "execution_count": 34,
   "metadata": {
    "scrolled": true
   },
   "outputs": [
    {
     "name": "stdout",
     "output_type": "stream",
     "text": [
      "Train Epoch: 1 [0/50000 (0%)]\tLoss: 2.311616\n",
      "Train Epoch: 1 [12800/50000 (26%)]\tLoss: 1.952445\n",
      "Train Epoch: 1 [25600/50000 (51%)]\tLoss: 2.194681\n",
      "Train Epoch: 1 [38400/50000 (77%)]\tLoss: 2.056632\n",
      "\n",
      "Train set: Average loss: 2.0268, Accuracy: 10584/50000 (21.2%)\n",
      "\n",
      "\n",
      "Test set: Average loss: 1.8904, Accuracy: 2920/10000 (29.200%)\n",
      "\n",
      "Train Epoch: 2 [0/50000 (0%)]\tLoss: 1.994673\n",
      "Train Epoch: 2 [12800/50000 (26%)]\tLoss: 2.002091\n",
      "Train Epoch: 2 [25600/50000 (51%)]\tLoss: 1.818328\n",
      "Train Epoch: 2 [38400/50000 (77%)]\tLoss: 1.963269\n",
      "\n",
      "Train set: Average loss: 1.9104, Accuracy: 14079/50000 (28.2%)\n",
      "\n",
      "\n",
      "Test set: Average loss: 1.7628, Accuracy: 3484/10000 (34.840%)\n",
      "\n",
      "Train Epoch: 3 [0/50000 (0%)]\tLoss: 1.832519\n",
      "Train Epoch: 3 [12800/50000 (26%)]\tLoss: 1.890632\n",
      "Train Epoch: 3 [25600/50000 (51%)]\tLoss: 1.870807\n",
      "Train Epoch: 3 [38400/50000 (77%)]\tLoss: 1.798331\n",
      "\n",
      "Train set: Average loss: 1.6221, Accuracy: 16048/50000 (32.1%)\n",
      "\n",
      "\n",
      "Test set: Average loss: 1.5702, Accuracy: 4263/10000 (42.630%)\n",
      "\n",
      "Train Epoch: 4 [0/50000 (0%)]\tLoss: 1.731752\n",
      "Train Epoch: 4 [12800/50000 (26%)]\tLoss: 1.885347\n",
      "Train Epoch: 4 [25600/50000 (51%)]\tLoss: 1.783812\n",
      "Train Epoch: 4 [38400/50000 (77%)]\tLoss: 1.876460\n",
      "\n",
      "Train set: Average loss: 1.6964, Accuracy: 16739/50000 (33.5%)\n",
      "\n",
      "\n",
      "Test set: Average loss: 1.5803, Accuracy: 4222/10000 (42.220%)\n",
      "\n",
      "Train Epoch: 5 [0/50000 (0%)]\tLoss: 1.702831\n",
      "Train Epoch: 5 [12800/50000 (26%)]\tLoss: 1.711658\n",
      "Train Epoch: 5 [25600/50000 (51%)]\tLoss: 1.718040\n",
      "Train Epoch: 5 [38400/50000 (77%)]\tLoss: 1.873538\n",
      "\n",
      "Train set: Average loss: 1.7211, Accuracy: 18323/50000 (36.6%)\n",
      "\n",
      "\n",
      "Test set: Average loss: 1.5294, Accuracy: 4538/10000 (45.380%)\n",
      "\n",
      "Train Epoch: 6 [0/50000 (0%)]\tLoss: 1.750953\n",
      "Train Epoch: 6 [12800/50000 (26%)]\tLoss: 1.573346\n",
      "Train Epoch: 6 [25600/50000 (51%)]\tLoss: 1.758884\n",
      "Train Epoch: 6 [38400/50000 (77%)]\tLoss: 1.540604\n",
      "\n",
      "Train set: Average loss: 1.6910, Accuracy: 18585/50000 (37.2%)\n",
      "\n",
      "\n",
      "Test set: Average loss: 1.4942, Accuracy: 4484/10000 (44.840%)\n",
      "\n",
      "Train Epoch: 7 [0/50000 (0%)]\tLoss: 1.648852\n",
      "Train Epoch: 7 [12800/50000 (26%)]\tLoss: 1.837793\n",
      "Train Epoch: 7 [25600/50000 (51%)]\tLoss: 1.379807\n",
      "Train Epoch: 7 [38400/50000 (77%)]\tLoss: 1.565511\n",
      "\n",
      "Train set: Average loss: 1.8538, Accuracy: 19416/50000 (38.8%)\n",
      "\n",
      "\n",
      "Test set: Average loss: 1.4816, Accuracy: 4543/10000 (45.430%)\n",
      "\n",
      "Train Epoch: 8 [0/50000 (0%)]\tLoss: 1.735890\n",
      "Train Epoch: 8 [12800/50000 (26%)]\tLoss: 1.665451\n",
      "Train Epoch: 8 [25600/50000 (51%)]\tLoss: 1.621712\n",
      "Train Epoch: 8 [38400/50000 (77%)]\tLoss: 1.594990\n",
      "\n",
      "Train set: Average loss: 1.4073, Accuracy: 19752/50000 (39.5%)\n",
      "\n",
      "\n",
      "Test set: Average loss: 1.5553, Accuracy: 4367/10000 (43.670%)\n",
      "\n",
      "Train Epoch: 9 [0/50000 (0%)]\tLoss: 1.734885\n",
      "Train Epoch: 9 [12800/50000 (26%)]\tLoss: 1.667117\n",
      "Train Epoch: 9 [25600/50000 (51%)]\tLoss: 1.787545\n",
      "Train Epoch: 9 [38400/50000 (77%)]\tLoss: 1.483243\n",
      "\n",
      "Train set: Average loss: 1.8811, Accuracy: 19868/50000 (39.7%)\n",
      "\n",
      "\n",
      "Test set: Average loss: 1.5018, Accuracy: 4535/10000 (45.350%)\n",
      "\n",
      "Train Epoch: 10 [0/50000 (0%)]\tLoss: 1.680892\n",
      "Train Epoch: 10 [12800/50000 (26%)]\tLoss: 2.063408\n",
      "Train Epoch: 10 [25600/50000 (51%)]\tLoss: 2.012442\n",
      "Train Epoch: 10 [38400/50000 (77%)]\tLoss: 1.913033\n",
      "\n",
      "Train set: Average loss: 1.8998, Accuracy: 15742/50000 (31.5%)\n",
      "\n",
      "\n",
      "Test set: Average loss: 1.6260, Accuracy: 4145/10000 (41.450%)\n",
      "\n"
     ]
    }
   ],
   "source": [
    "cnn = CNN_CIFAR()\n",
    "optimizer = optim.SGD(cnn.parameters(), lr=0.10, momentum=0.9, weight_decay=5e-4)\n",
    "scheduler = torch.optim.lr_scheduler.CosineAnnealingLR(optimizer, T_max=200)\n",
    "\n",
    "epochs = 10\n",
    "for epoch in range(1, epochs + 1):\n",
    "    train(cnn, dl_train, optimizer, epoch, log_interval=100)\n",
    "    test(cnn, dl_test)    \n",
    "    scheduler.step()"
   ]
  },
  {
   "cell_type": "markdown",
   "metadata": {},
   "source": [
    "This should give 40 - 50 % - and if you are not already on Colab it will give you a stressed out laptop. The performance is a lot better than random, but we can definitely do better."
   ]
  },
  {
   "cell_type": "markdown",
   "metadata": {},
   "source": [
    "### Have fun with GPUs\n",
    "You can already call it a day until this point because we won't grade the rest of the excecise. You can have more fun with the rest :)\n"
   ]
  },
  {
   "cell_type": "markdown",
   "metadata": {},
   "source": [
    "\n",
    "If you didn't already, move to colab. To use a GPU, follow on the collaboratory menu tabs, \"Runtime\" => \"Change runtime type\" and set it to GPU. Then run the same training loop but now on GPU. \n",
    "\n",
    "It as easy as:"
   ]
  },
  {
   "cell_type": "code",
   "execution_count": null,
   "metadata": {},
   "outputs": [],
   "source": [
    "device = 'cuda'\n",
    "if device == 'cuda': torch.backends.cudnn.benchmark = True # additional speed up\n",
    "\n",
    "cnn = CNN()\n",
    "optimizer = optim.SGD(cnn.parameters(), lr=0.1, momentum=0.9, weight_decay=5e-4)\n",
    "scheduler = torch.optim.lr_scheduler.CosineAnnealingLR(optimizer, T_max=200)\n",
    "cnn = cnn.to(device)\n",
    "\n",
    "epochs = 10\n",
    "for epoch in range(1, epochs + 1):\n",
    "    train(cnn, dl_train, optimizer, epoch, log_interval=100, device=device)\n",
    "    test(cnn, dl_test, device=device)    \n",
    "    scheduler.step()"
   ]
  },
  {
   "cell_type": "markdown",
   "metadata": {},
   "source": [
    "This should be way faster now. But the true advantage of the GPU is that we can use much bigger models now and still train them in a reasonable amount of time. PyTorch is again very handy. The torchvision library comes with varies state-of-the-art model architectures, some of which you have seen in the lecture."
   ]
  },
  {
   "cell_type": "code",
   "execution_count": null,
   "metadata": {},
   "outputs": [],
   "source": [
    "from torchvision.models import resnet18"
   ]
  },
  {
   "cell_type": "code",
   "execution_count": null,
   "metadata": {
    "scrolled": true
   },
   "outputs": [],
   "source": [
    "cnn = resnet18()\n",
    "print(cnn)"
   ]
  },
  {
   "cell_type": "markdown",
   "metadata": {},
   "source": [
    "Looks scary! But the only thing you need to change to make it work on CIFAR is the last layer.\n",
    "Currently the last layer is:\n",
    "```\n",
    "  (fc): Linear(in_features=512, out_features=1000, bias=True)\n",
    "```\n",
    "out_features is the number of classes. This models are developed for Imagenet, a dataset with 1000 classes. So this part of the model you need to adapt. Additionally, you need to add a log-softmax layer again, as we us negative log-likelihood as the training criterion. "
   ]
  },
  {
   "cell_type": "code",
   "execution_count": null,
   "metadata": {},
   "outputs": [],
   "source": [
    "#########################################################################\n",
    "# TODO: Adapt the Resnet to work on CIFAR\n",
    "#########################################################################\n"
   ]
  },
  {
   "cell_type": "code",
   "execution_count": null,
   "metadata": {},
   "outputs": [],
   "source": [
    "# This should print 'torch.Size([16, 10])'\n",
    "cnn(torch.randn(16,3,32,32)).shape"
   ]
  },
  {
   "cell_type": "code",
   "execution_count": null,
   "metadata": {},
   "outputs": [],
   "source": [
    "device = 'cuda'\n",
    "if device == 'cuda': torch.backends.cudnn.benchmark = True # this gives us additional speed up\n",
    "\n",
    "optimizer = optim.SGD(cnn.parameters(), lr=0.1, momentum=0.9, weight_decay=5e-4)\n",
    "scheduler = torch.optim.lr_scheduler.CosineAnnealingLR(optimizer, T_max=200)\n",
    "cnn = cnn.to(device)\n",
    "\n",
    "epochs = 50\n",
    "for epoch in range(1, epochs + 1):\n",
    "    train(cnn, dl_train, optimizer, epoch, log_interval=100, device=device)\n",
    "    test(cnn, dl_test, device=device)    \n",
    "    scheduler.step()"
   ]
  },
  {
   "cell_type": "markdown",
   "metadata": {},
   "source": [
    "This should get us well above 75%, the best we got was ~ 80%.\n",
    "\n",
    "Now, use different torchvision architectures, different optimizers (Adam is always a good choice), data augmentation techniques, and hyperparameter search to achieve a test accuracy of >90 %"
   ]
  },
  {
   "cell_type": "code",
   "execution_count": null,
   "metadata": {},
   "outputs": [],
   "source": []
  }
 ],
 "metadata": {
  "kernelspec": {
   "display_name": "Python 3.9.12 ('base')",
   "language": "python",
   "name": "python3"
  },
  "language_info": {
   "codemirror_mode": {
    "name": "ipython",
    "version": 3
   },
   "file_extension": ".py",
   "mimetype": "text/x-python",
   "name": "python",
   "nbconvert_exporter": "python",
   "pygments_lexer": "ipython3",
   "version": "3.11.5"
  },
  "vscode": {
   "interpreter": {
    "hash": "d268b61a0efacafa8645774cb6d0204c9f01d7563ef03f7672146d044e8f345c"
   }
  }
 },
 "nbformat": 4,
 "nbformat_minor": 4
}
